{
 "cells": [
  {
   "cell_type": "markdown",
   "id": "charming-tolerance",
   "metadata": {},
   "source": [
    "# Random walk on a weighted graph\n",
    "\n",
    "Let $G$ be an undirected graph with vertex set $V$ and edge set $E$,\n",
    "and let $w : E \\to \\mathbb{R}_{\\ge 0}$ a *weighting* of the edges.\n",
    "Define $X$ to be the continuous-time Markov chain on $V$ that,\n",
    "when at vertex $v$, jumps to vertex $u$ with rate equal to the weight on the edge between $u$ and $v$,\n",
    "i.e., with rate $w(\\{u,v\\})$.\n",
    "Show that the stationary distribution of $X$ is uniform on $V$."
   ]
  },
  {
   "cell_type": "markdown",
   "id": "cultural-criterion",
   "metadata": {},
   "source": [
    "# It's raining candy\n",
    "\n",
    "We are called in to inspect a malfunctioning candy factory:\n",
    "about every 5 seconds, the machine ejects a random, Geometrically distributed\n",
    "number of M&Ms (with an average of 5 M&Ms per event).\n",
    "These land on the floor, where they are eaten\n",
    "by children (on a school tour, now uncontrollable)\n",
    "at an average rate of $\\alpha$ per second.\n",
    "\n",
    "Let $M(t)$ be the number of loose, uneaten M&Ms.\n",
    "\n",
    "1. Write down the generator for the continuous-time Markov chain that models $M(t)$.\n",
    "2. Calculate and plot the stationary distribution of the amount of candy on the floor\n",
    "    with $\\alpha = 1.1$ candies/second.\n",
    "3. Later, the situation becomes worse: $n$ machines begin to break and $n$ tour groups show up,\n",
    "   scaling the rates of both appearance and dissapearance of candy.\n",
    "   Let $X(t) = M(t) / n$, and show that the generator for $X$\n",
    "   satisfies for $x > 0$\n",
    "   $$ Gf(x) = (1 - \\alpha) \\frac{d}{dx} f(x) + O\\left(\\frac{1}{n}\\right) .$$\n",
    "4. By using the approximate generator in (3),\n",
    "   show that the amount of candy is nearly deterministic\n",
    "   by solving for $\\mathbb{E}[X(t)]$ and $\\text{var}[X(t)]$.\n",
    "\n",
    "*Note:* For part (2) you may want to use [`np.linalg.solve`](https://numpy.org/doc/stable/reference/generated/numpy.linalg.solve.html)\n",
    "and the fact that if $\\pi^T G = 0$ and $\\pi^T \\mathbf{1} = 1$\n",
    "then $\\pi^T (\\mathbf{1}\\mathbf{1}^T + G) = \\mathbf{1}^T$."
   ]
  },
  {
   "cell_type": "markdown",
   "id": "surrounded-wales",
   "metadata": {},
   "source": [
    "# Block stacking\n",
    "\n",
    "My two-year-old stacks blocks, adding a new block to the existing stack at an average rate of 6 per minute.\n",
    "The chance that a tower of $n$ blocks does not fall over during the course of $t$ minutes is $\\exp(-nt)$.\n",
    "Once the tower falls over, it becomes a tower of 0 blocks, and construction continues.\n",
    "Modeling the height of the tower as a continuous time Markov chain,\n",
    "find the following quantities, and check your results with a simulation:\n",
    "\n",
    "1. The probability that a given tower reaches height $N$ before collapsing.\n",
    "2. The stationary distribution of the height of the tower.\n",
    "3. Compute numerically the probability that there will be a tower with 6 blocks present 1 minute after starting to stack."
   ]
  }
 ],
 "metadata": {
  "kernelspec": {
   "display_name": "Python 3",
   "language": "python",
   "name": "python3"
  },
  "language_info": {
   "codemirror_mode": {
    "name": "ipython",
    "version": 3
   },
   "file_extension": ".py",
   "mimetype": "text/x-python",
   "name": "python",
   "nbconvert_exporter": "python",
   "pygments_lexer": "ipython3",
   "version": "3.9.2"
  }
 },
 "nbformat": 4,
 "nbformat_minor": 5
}
