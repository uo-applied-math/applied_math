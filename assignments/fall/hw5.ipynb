{
 "cells": [
  {
   "cell_type": "markdown",
   "id": "interracial-collins",
   "metadata": {},
   "source": [
    "# 0. A Poisson cloud\n",
    "\n",
    "Let $N$ be the PPP on $\\mathbb{R}^2$ with mean intensity\n",
    "$$\n",
    " \\mu(dt dx) = e^{-x} dx dt .\n",
    "$$\n",
    "Sample from $N$ on the box $[-5, 5] \\times [-5, 5]$,\n",
    "and plot the result."
   ]
  },
  {
   "cell_type": "markdown",
   "id": "comic-testing",
   "metadata": {},
   "source": [
    "# 1. A wet frog\n",
    "\n",
    "A frog is sitting in a rainstorm, and drops are falling on its back at random, independent,\n",
    "Exponential(1)-distributed intervals (i.e., as a PPP(1) in time).\n",
    "Every time a drop lands, it either hops left (probability 1/2) or right (probability 1/2).\n",
    "Let $X(t)$ denote the displacement of the frog after time $t$\n",
    "(in number of hops relative to its starting location, e.g., $X(t) = -3$ is three hops to the left).\n",
    "\n",
    "a. Use Poisson labeling to find the mean and variance of $X(t)$ (*Hint:* let $X(t) = R(t) - L(t)$,\n",
    "    where $L$ and $R$ are the number of left and right steps, respectively.)\n",
    "\n",
    "b. Find the *cumulant generating function* of $X(t)$, defined as $K_t(u) = \\log \\mathbb{E}[e^{uX(t)}]$.\n",
    "\n",
    "c. Use this to derive an expression for the $n$th cumulant of $X(t)$, for each $n \\ge 1$.\n",
    "   Note that the first cumulant is the mean and the second is the variance.\n",
    "   \n",
    "d. Use simulation to check your result."
   ]
  },
  {
   "cell_type": "markdown",
   "id": "excess-heading",
   "metadata": {},
   "source": [
    "# 2. Confetti\n",
    "\n",
    "We plan to drop a great deal of confetti fom a great height onto a large plaza.\n",
    "Each piece of confetti is a thin paper circle of radius 1cm;\n",
    "suppose that the confetti will fall more or less uniformly across the plaza\n",
    "and that confetti may cover each other.\n",
    "\n",
    "a. Show that if we drop an average of $\\lambda$ pieces of confetti per square meter\n",
    "    that the probability a given point on the plaza is uncovered by confetti\n",
    "    is $\\exp(-\\lambda \\pi \\times 10^{-4})$.\n",
    "\n",
    "b. What density of confetti (in pieces per square meter)\n",
    "   do we need to drop so that around 99% of the plaza will be covered by at least one piece of confetti?\n",
    "\n",
    "c. Check your solutions by simulation.\n",
    "    To do this, simulate and plot a picture of the confetti process on the unit square (to avoid edge effects,\n",
    "    simulate uniform confetti on a larger square);\n",
    "    then estimate the proprotion covered by asking how often\n",
    "    some set of points is covered across many simulations."
   ]
  }
 ],
 "metadata": {
  "kernelspec": {
   "display_name": "Python 3",
   "language": "python",
   "name": "python3"
  },
  "language_info": {
   "codemirror_mode": {
    "name": "ipython",
    "version": 3
   },
   "file_extension": ".py",
   "mimetype": "text/x-python",
   "name": "python",
   "nbconvert_exporter": "python",
   "pygments_lexer": "ipython3",
   "version": "3.9.2"
  }
 },
 "nbformat": 4,
 "nbformat_minor": 5
}
