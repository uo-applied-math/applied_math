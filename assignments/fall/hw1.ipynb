{
 "cells": [
  {
   "cell_type": "markdown",
   "id": "detected-cisco",
   "metadata": {},
   "source": [
    "# Math 607 Applied Math I: Week 1 Homework\n",
    "\n",
    "Due date: Tuesday, Oct 5.\n",
    "\n",
    "Please submit your solutions by upload on Canvas.\n",
    "\n",
    "It's absolutely OK if you work together on these problems - and this is especially true for the programming problems, when encourage you to work in pairs at one computer, with one person typing and one person thinking.\n",
    "\n",
    "We do want everyone to write up each assignment on their own."
   ]
  },
  {
   "cell_type": "markdown",
   "id": "norman-greece",
   "metadata": {},
   "source": [
    "## Problem 1: Means, variances, and counting\n",
    "\n",
    "Suppose that we have $N$ things, that each thing has some integer label,\n",
    "that $a_n$ is the number of these that have the label $n$,\n",
    "and that\n",
    "$$ G(x) = \\sum_n x^n a_n $$\n",
    "is the generating function of the sequence $a$.\n",
    "Let $X$ be the label of a thing drawn uniformly at random,\n",
    "and explain how to find the mean and variance of $X$\n",
    "by algebraic manipulations of $G$.\n",
    "(If you don't know what the variance is, please look it up or ask us.)"
   ]
  },
  {
   "cell_type": "markdown",
   "id": "pressed-institute",
   "metadata": {},
   "source": [
    "## Problem 2: Linearity of expectation\n",
    "\n",
    "Let $(X_1, \\ldots, X_n)$ be a collection of integer-valued random variables with joint distribution\n",
    "$$ \\mathbb{P}\\{ X_1 = k_1, \\; \\ldots,\\; X_n = k_n \\} = p_{k_1, \\ldots, k_n} . $$\n",
    "For each $1 \\le i \\le n$ define the *marginal distribution* of $X_i$ to be\n",
    "$$  q^{(i)}_k = \\mathbb{P}\\{ X_i = k \\} . $$\n",
    "\n",
    "**(a)**\n",
    "Show that for any function $f$ for which the following makes sense,\n",
    "$$ \\mathbb{E}[f(X_i)] =  \\sum_k f(k) q^{(i)}_k .$$\n",
    "\n",
    "**(b)**\n",
    "Show that \n",
    "$$ \\mathbb{E}[f(X_1) + \\cdots + f(X_n)] = \\mathbb{E}[f(X_1)] + \\cdots +  \\mathbb{E}[f(X_n)] . $$"
   ]
  },
  {
   "cell_type": "markdown",
   "id": "altered-customs",
   "metadata": {},
   "source": [
    "## Problem 3: Inversions of permutations"
   ]
  },
  {
   "cell_type": "markdown",
   "id": "incoming-chick",
   "metadata": {},
   "source": [
    "Let $\\pi$ be a permutation on $n$ letters.\n",
    "An *inversion* of pi is a pair $(i,j)$ with $1 \\leq i < j \\leq n$ \n",
    "such that $\\pi(i) > \\pi(j)$.\n",
    "Let $I(n,k)$ denote the number of permutations on $n$ letters which have $k$ inversions.  \n",
    "\n",
    "**(a)** Compute the generating function $G_n(k) = \\sum_k \\frac{I(n,k)}{n!} x^k$."
   ]
  },
  {
   "cell_type": "markdown",
   "id": "pending-cursor",
   "metadata": {},
   "source": [
    "**(b)** What is the expected number of inversions in a randomly chosen permutation on $n$ letters?"
   ]
  },
  {
   "cell_type": "markdown",
   "id": "binary-prison",
   "metadata": {},
   "source": [
    "**(c)**\n",
    "Check your answer by *simulation*. To do this, write a function that returns a uniformly random permutation of length `n`;\n",
    "another function that computes the number of inversions in a permutation;\n",
    "and another that takes `N` random permutations and returns the mean number of inversions across all of them\n",
    "Then make a plot with `n` on the x-axis and the mean number of inversions\n",
    "across `N=1000` random draws, for `n` between 1 and 20.\n",
    "Plot your equation from (b) on top of these points."
   ]
  },
  {
   "cell_type": "markdown",
   "id": "asian-connection",
   "metadata": {},
   "source": [
    "**(d)**\n",
    "Compute (b) in a different way: let $\\pi$ be a uniformly random permutation of length $n$,\n",
    "and given $\\pi$, for each $1 \\le i < j \\le n$ let $\\theta_{ij} = 1$ if $\\pi(i) > \\pi(j)$.\n",
    "Let $X$ be the number of inversions in $\\pi$ and note that\n",
    "$$ X = \\sum_{i < j} \\theta_{ij} . $$\n",
    "Now use *linearity of expectation*, which implies that\n",
    "$$ \\mathbb{E}[X] = \\sum_{i < j} \\mathbb{E}[\\theta_{ij}] . $$"
   ]
  },
  {
   "cell_type": "markdown",
   "id": "superb-enterprise",
   "metadata": {},
   "source": [
    "##  Problem 4: weird dice"
   ]
  },
  {
   "cell_type": "markdown",
   "id": "exotic-norwegian",
   "metadata": {},
   "source": [
    "Consider two six-sided dice with sides marked as follows:\n",
    "\n",
    "* Die A has sides marked 1,3,4,5,6,8\n",
    "* Die B has sides marked 1,2,2,3,3,4\n",
    "\n",
    "We roll these two dice and add the values to get a random number between 2 and 12."
   ]
  },
  {
   "cell_type": "markdown",
   "id": "sought-vacation",
   "metadata": {},
   "source": [
    "**(a)** Show that the random number we get has the same distribution as rolling two ordinary dice and adding the values.    This part doesn't *need* generating functions, but the third part does, so you might as well use them."
   ]
  },
  {
   "cell_type": "markdown",
   "id": "concrete-quilt",
   "metadata": {},
   "source": [
    "**(b)**\n",
    "Simulate at least 10,000 times the sum of the two weird dice, and also the sum of two normal dice.\n",
    "Compare the proportion of the times you get each number between 2 and 12 in the two situations\n",
    "(just reporting the ten proportions is OK - note that with 10,000 rolls you expect these to be off by a few percent)."
   ]
  },
  {
   "cell_type": "markdown",
   "id": "administrative-transaction",
   "metadata": {},
   "source": [
    "**(c)** Show that \n",
    " * the ordinary labeling of two dice, and\n",
    " * the labelling of Die A and Die B\n",
    " \n",
    "are the only labellings with the property described in part (a),\n",
    "subject to the conditions that each die has six sides and the smallest number on each die is 1."
   ]
  }
 ],
 "metadata": {
  "kernelspec": {
   "display_name": "Python 3",
   "language": "python",
   "name": "python3"
  },
  "language_info": {
   "codemirror_mode": {
    "name": "ipython",
    "version": 3
   },
   "file_extension": ".py",
   "mimetype": "text/x-python",
   "name": "python",
   "nbconvert_exporter": "python",
   "pygments_lexer": "ipython3",
   "version": "3.9.2"
  }
 },
 "nbformat": 4,
 "nbformat_minor": 5
}
