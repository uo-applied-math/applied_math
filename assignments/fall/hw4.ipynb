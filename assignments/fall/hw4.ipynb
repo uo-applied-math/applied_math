{
 "cells": [
  {
   "cell_type": "markdown",
   "id": "loaded-schema",
   "metadata": {},
   "source": [
    "# Math 607 Applied Math I: Week 3 Homework\n",
    "\n",
    "Due date: Thursday, Oct 21.\n",
    "\n",
    "Please submit your solutions by upload on Canvas.\n",
    "\n",
    "It's absolutely OK if you work together on these problems - and this is especially true for the programming problems, when encourage you to work in pairs at one computer, with one person typing and one person thinking.\n",
    "\n",
    "We do want everyone to write up each assignment on their own."
   ]
  },
  {
   "cell_type": "markdown",
   "id": "opposite-convergence",
   "metadata": {},
   "source": [
    "# 1. $d$-regular eigenvalues\n",
    "\n",
    "Recall that the *adjacency matrix* $A$ of an undirected graph is the matrix with $A_{ij} = 1$ if there is an edge between $i$ and $j$ in the graph, and $A_{ij} = 0$ otherwise.\n",
    "A $d$*-regular* graph is one for which the degree of every vertex is exactly $d$.\n",
    "\n",
    "*a.* Show that the adjacency matrix of the *complete graph* on $n$ vertices (i.e., the $(n-1)$-regular graph)\n",
    "    has two eigenvalues: $n-1$, with multiplicity 1, and $-1$, with multiplicity $n-1$.\n",
    "    \n",
    "*b.* Show that the adjacency matrix of any $d$-regular graph has an eigenspace with eigenvalue $d$. What determines the dimension of this eigenspace?"
   ]
  },
  {
   "cell_type": "markdown",
   "id": "finished-perfume",
   "metadata": {},
   "source": [
    "# 2. Uniform spanning trees\n",
    "\n",
    "One way to sample a uniform spanning tree of a graph $G$\n",
    "is the *Aldous-Broder* algorithm: choose a vertex $r$ of $G$ and perform a random walk on $G$, starting at $r$,\n",
    "until every vertex has been visited.\n",
    "For each vertex $w \\neq r$, remember the edge that was traversed by\n",
    "the walk on it's first visit to $w$.\n",
    "These edges are the uniform spanning tree.\n",
    "(For simplicity, we're dealing with an unweighted graph -\n",
    "all weights are 1 - and the \"random walk on a graph\"\n",
    "is the one that, at each time step, chooses a random edge\n",
    "incident to the vertex it's currently at\n",
    "to move along.)\n",
    "\n",
    "**(a)** Implement the Aldous-Broder algorithm on the $m \\times n$ grid.\n",
    "\n",
    "**(b)** Plot an example or two on a 30x40 grid.\n",
    "(It may be helpful to look at the plotting code [here](https://uo-applied-math.github.io/applied_math/2019/demos/random_spanning_tree.html).\n",
    "\n",
    "**(c)** How many spanning trees *are* there of the 30x40 grid?"
   ]
  },
  {
   "cell_type": "markdown",
   "id": "spiritual-hormone",
   "metadata": {},
   "source": [
    "# 3. The Ising model\n",
    "\n",
    "Use the Metropolis-Hastings algorithm to sample from the Ising model's\n",
    "distribution, and plot the results on a 100x100 grid at $T=0.01$.\n",
    "Explain carefully why your algorithm works.\n",
    "Here is some skeleton code to do this:"
   ]
  },
  {
   "cell_type": "code",
   "execution_count": null,
   "id": "charged-virgin",
   "metadata": {},
   "outputs": [],
   "source": [
    "class Ising(object):\n",
    "    \n",
    "    def __init__(self, n, m):\n",
    "        self.n = n\n",
    "        self.m = m\n",
    "        self.state = np.random.choice([-1, 1], n*m).reshape((n, m))\n",
    "    \n",
    "    def plot(self):\n",
    "        fig, ax = plt.subplots()\n",
    "        ax.set_aspect(1)\n",
    "        xy = np.array([[a, b] for a in range(self.n) for b in range(self.m)])\n",
    "        fills = ['black' if (s == 1) else 'white' for s in self.state.reshape((self.n*self.m,))]\n",
    "        ax.scatter(xy[:,0], xy[:,1], c=fills, marker=\"8\", s=5)\n",
    "    \n",
    "    def update(self, T):\n",
    "        ## FILL ME: should do one Metropolis-Hastings update step\n",
    "        ## to self.state\n",
    "        \n",
    "        \n",
    "ising = Ising(100, 100)\n",
    "for _ in range(100000):\n",
    "    ising.update(0.01)\n",
    "ising.plot()"
   ]
  },
  {
   "cell_type": "markdown",
   "id": "viral-drive",
   "metadata": {},
   "source": [
    "# 4. Random walk on a graph\n",
    "\n",
    "Let $X$ be the random walk on an unweighted graph $G = (V,E)$,\n",
    "i.e., the transition probabilities are\n",
    "$\\mathbb{P}\\{X_{k+1} = y \\;\\|\\; X_k=x\\} = 1/\\text{deg}(x)$\n",
    "for $(x,y) \\in E$ and 0 otherwise.\n",
    "\n",
    "\n",
    "**(a)** Show that $X$ is reversible with respect to\n",
    "$$ \\pi(x) \\propto \\text{deg}(x) .$$\n",
    "\n",
    "**(b)** Let $A$ be the adjacency matrix of the graph\n",
    "and $D$ be the diagonal matrix with $D_{xx} = \\text{deg}(x)$.\n",
    "Show that $P = $D^{-1} A$ is the transition matrix for $X$, so\n",
    "$$\n",
    "  \\mathbb{E}[f(X_t) \\;|\\; X_0 = x] = (P^t f)(x) .\n",
    "$$\n",
    "\n",
    "**(c)** How could we minimally modify the random walk\n",
    "so that the stationary distribution was *uniform*?"
   ]
  }
 ],
 "metadata": {
  "kernelspec": {
   "display_name": "Python 3",
   "language": "python",
   "name": "python3"
  },
  "language_info": {
   "codemirror_mode": {
    "name": "ipython",
    "version": 3
   },
   "file_extension": ".py",
   "mimetype": "text/x-python",
   "name": "python",
   "nbconvert_exporter": "python",
   "pygments_lexer": "ipython3",
   "version": "3.9.2"
  }
 },
 "nbformat": 4,
 "nbformat_minor": 5
}
