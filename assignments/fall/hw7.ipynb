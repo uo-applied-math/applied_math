{
 "cells": [
  {
   "cell_type": "markdown",
   "id": "single-therapy",
   "metadata": {},
   "source": [
    "# 1. Gaussian horizons\n",
    "\n",
    "Here is a proposal for a model of a random, mountainous, skyline:\n",
    "let $Z = (Z_1, \\ldots, Z_n)$ be multivariate Gaussian \n",
    "with mean zero and covariance matrix as follows.\n",
    "We imagine these as arranged around a circle,\n",
    "and let $d(i,j) = \\min(|i-j|, n-|i-j|)$ be the circular distance between $i$ and $j$.\n",
    "Then for each $1 \\le i \\le n$ let $\\text{var}[Z_i] = 1.01$ and for $i \\neq j$ let\n",
    "$$ \\text{cov}[Z_i, Z_j] = \\frac{1}{1 + \\left(\\frac{10 \\, d(i,j)}{n}\\right)^2} . $$\n",
    "\n",
    "1. Simulate a few random landscapes from this process with different values of $n$ between\n",
    "    50 and 500. To do this: (a) compute the covariance matrix, $\\Sigma$; (b) let $K$ be the Cholesky\n",
    "    decomposition (a square root) of $\\Sigma$, and (c) let $Z = K W$, where $W$ is a vector of iid Normals.\n",
    "\n",
    "2. For $0 \\le s < t \\le 1$ let $U(s, t) = \\frac{1}{n(t-s)} \\sum_{i=ns}^{nt} Z_i$:\n",
    "    in other words, $U(s,t)$ is the average of the values between positions $s$ and $t$ around the circle,\n",
    "    if the circle has diameter 1. Find an approximation for large $n$ for $\\text{cov}[U(0), U(s,t)]$\n",
    "    and check your answer using simulation with a few values of $s$ and $t$."
   ]
  },
  {
   "cell_type": "markdown",
   "id": "fundamental-finance",
   "metadata": {},
   "source": [
    "# 2. Double-well potential\n",
    "\n",
    "Let $Y(t)$ be the diffusion that solves the SDE\n",
    "$$\n",
    "   dY(t) = - 4 Y(t)\\left( Y(t)^2 - 1 \\right) dt + dB(t) .\n",
    "$$\n",
    "\n",
    "1. Write down the generator for $Y(t)$, and show that it satisfies one of the definitions of the generator.\n",
    "\n",
    "2. Show that if $h(y) = y^2 (y^2 - 2)$, then\n",
    "    the stationary distribution of $Y(t)$ is proportional to $e^{-2h(y)}$.\n",
    "\n",
    "3. Simulate from the process and check at least qualitatively your answer."
   ]
  },
  {
   "cell_type": "markdown",
   "id": "hundred-float",
   "metadata": {},
   "source": [
    "# 3. Logistic Brownian Motion\n",
    "\n",
    "Let $B(t)$ be standard Brownian motion\n",
    "and\n",
    "$$ X(t) = \\frac{1}{1 + \\exp(-B(t))} .$$\n",
    "\n",
    "1. Use Itô's formula to write an integral equation for $X(t)$.\n",
    "2. Simulate a discretized approximation for the integral equation, and show that it agrees with the definition above."
   ]
  }
 ],
 "metadata": {
  "kernelspec": {
   "display_name": "Python 3",
   "language": "python",
   "name": "python3"
  },
  "language_info": {
   "codemirror_mode": {
    "name": "ipython",
    "version": 3
   },
   "file_extension": ".py",
   "mimetype": "text/x-python",
   "name": "python",
   "nbconvert_exporter": "python",
   "pygments_lexer": "ipython3",
   "version": "3.9.2"
  }
 },
 "nbformat": 4,
 "nbformat_minor": 5
}
