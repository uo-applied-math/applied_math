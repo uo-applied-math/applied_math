{
 "cells": [
  {
   "cell_type": "markdown",
   "id": "loaded-schema",
   "metadata": {},
   "source": [
    "# Math 607 Applied Math I: Week 2 Homework\n",
    "\n",
    "Due date: Thursday, Oct 14.\n",
    "\n",
    "Please submit your solutions by upload on Canvas.\n",
    "\n",
    "It's absolutely OK if you work together on these problems - and this is especially true for the programming problems, when encourage you to work in pairs at one computer, with one person typing and one person thinking.\n",
    "\n",
    "We do want everyone to write up each assignment on their own."
   ]
  },
  {
   "cell_type": "markdown",
   "id": "touched-quarterly",
   "metadata": {},
   "source": [
    "## Problem 1: rooted trees\n",
    "\n",
    "Let $T_n$ be the number of rooted trees of depth $n$\n",
    "with the property that each node except the last has either $1$ or $m$ children.\n",
    "Concretely, we can build these as follows:\n",
    "begin with a single node at level 0 (the root),\n",
    "and then form level $k+1$ by attaching either 1 or $m$ children to each node of level $k$.\n",
    "Order does not matter, so\n",
    "$T_0 = 1$ (by convention?);\n",
    "$T_1 = 1$ (the root);\n",
    "$T_2 = 2$ (the root could have either 1 or $m$ children);\n",
    "and $T_3 = 2 + 2^m$\n",
    "(either the root has one child or has $m$ children and each of those has either 1 or $m$ children).\n",
    "\n",
    "1. Find a recursion for $T_n$ in terms of $T_{n-1}$.\n",
    "2. Find an equation that the generating function for $T_n$ solves.\n",
    "3. Check your answers by writing a method in python to generate all such trees."
   ]
  },
  {
   "cell_type": "markdown",
   "id": "joint-respect",
   "metadata": {},
   "source": [
    "## Problem 2: recursion and not\n",
    "\n",
    "Consider the following badly written recursive program to compute the Fibonnacci numbers:\n",
    "```\n",
    "def f(n):\n",
    "    if n <= 1:\n",
    "        return n\n",
    "    else:\n",
    "        return f(n-1) + f(n-2)\n",
    "```\n",
    "\n",
    "**(a)** Analyze its run time.\n",
    "\n",
    "**(b)** Write a iterative program to do the same thing, starting with f(0), etc."
   ]
  },
  {
   "cell_type": "markdown",
   "id": "fleet-screening",
   "metadata": {},
   "source": [
    "## Problem 3: Recursive mountains\n",
    "\n",
    "Recall that with $C_n$ the number of \"mountain ranges\" of length $2n$\n",
    "we found the recursive formula\n",
    "$$ C_n = \\sum_{j=0}^{n-1} C_j C_{n-j-1} $$\n",
    "by decomposing a mountain range into the first mountain (of length $2(j+1)$) and everything else.\n",
    "Write a recursive function that generates all mountain ranges of length $2n$\n",
    "using this same decomposition,\n",
    "and compare the results to the iterative method we wrote in office hours (see the website for the notebook)."
   ]
  },
  {
   "cell_type": "markdown",
   "id": "terminal-crash",
   "metadata": {},
   "source": [
    "## Problem 4: outbreak size\n",
    "\n",
    "Consider an outbreak of a disease with $R_0 \\le 1$:\n",
    "suppose the mean number of new cases per case is $\\xi$ with $\\mathbb{E}[\\xi] = R_0 \\le 1$.\n",
    "We'd like to learn about the *total* number of cases in the outbreak:\n",
    "suppose $(N_t)_{t \\ge 0}$ is the branching process driven by $\\xi$\n",
    "and let $W_t = N_0 + N_1 + \\cdots + N_t$,\n",
    "and $W = \\lim_t W_t$. \n",
    "Suppose the outbreak has $N_0 = 1$,\n",
    "and to agree with previous notation let $\\mu = R_0$.\n",
    "\n",
    "**(a)** Find $\\mathbb{E}[W]$.\n",
    "\n",
    "**(b)** Let $G_t(u) = \\mathbb{E}[u^{W_t}]$, and $\\phi(u) = \\mathbb{E}[u^\\xi]$,\n",
    "    and show that $G_{t+1}(u) = u \\phi(G_t(u))$,\n",
    "    and so $G(u) =  \\mathbb{E}[u^{W}] = u \\phi(G(u))$.\n",
    "    *(Hint: split it into the families of the first set of children.)*\n",
    "    \n",
    "**(c)** Find the variance of $W$ in terms of $mu$ and $V = \\mathbb{E}[\\xi^2]$.\n",
    "\n",
    "**(d)** Write a function that simulates from the branching process\n",
    "in the case where $\\xi \\sim \\text{Poisson}(\\lambda)$,\n",
    "and use it to check your answers to (a) and (c) at a few values of $\\mu < 1$.\n",
    "\n",
    "**(e)**\n",
    "What happens when you use your simulation to try to estimate the mean of $W$ at $\\mu = 1$?\n",
    "Plot the mean of $n$ independent trials against $n$ at $\\mu=0.95$ and at $\\mu=1$."
   ]
  }
 ],
 "metadata": {
  "kernelspec": {
   "display_name": "Python 3",
   "language": "python",
   "name": "python3"
  },
  "language_info": {
   "codemirror_mode": {
    "name": "ipython",
    "version": 3
   },
   "file_extension": ".py",
   "mimetype": "text/x-python",
   "name": "python",
   "nbconvert_exporter": "python",
   "pygments_lexer": "ipython3",
   "version": "3.9.2"
  }
 },
 "nbformat": 4,
 "nbformat_minor": 5
}
