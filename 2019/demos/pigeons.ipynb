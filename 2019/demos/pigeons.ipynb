{
 "cells": [
  {
   "cell_type": "code",
   "execution_count": 1,
   "metadata": {},
   "outputs": [],
   "source": [
    "import numpy as np"
   ]
  },
  {
   "cell_type": "markdown",
   "metadata": {},
   "source": [
    "Here is some code to simulate a PPP of pigeons on a wire, and to count the number of pairs that are nearby to each other."
   ]
  },
  {
   "cell_type": "code",
   "execution_count": 2,
   "metadata": {},
   "outputs": [],
   "source": [
    "def draw_pigeons(L, rho=1):\n",
    "    # draw number of pigeons\n",
    "    N = np.random.poisson(L*rho)\n",
    "    # draw positions\n",
    "    X = np.random.uniform(low=0.0, high=L, size=N)\n",
    "    return X\n",
    "\n",
    "def count_pairs(X, d):\n",
    "    # count number of pairs within distance d\n",
    "    npairs = 0\n",
    "    Y = sorted(X)\n",
    "    for i, x in enumerate(Y):\n",
    "        for j in range(i+1, len(X)):\n",
    "            y = Y[j]\n",
    "            if y - x <= d:\n",
    "                npairs += 1\n",
    "            else:\n",
    "                break\n",
    "    return npairs"
   ]
  },
  {
   "cell_type": "code",
   "execution_count": 3,
   "metadata": {},
   "outputs": [],
   "source": [
    "X = np.array([0, 2, 2.1, 2.2, 3, 4, 1, 4.1, 10])\n",
    "# X.sort()\n",
    "assert(count_pairs(X, 0.5) == 4)\n",
    "# count_pairs(X, 0.5)"
   ]
  },
  {
   "cell_type": "code",
   "execution_count": 4,
   "metadata": {},
   "outputs": [
    {
     "data": {
      "text/plain": [
       "(100541, 4898, 5000.0)"
      ]
     },
     "execution_count": 4,
     "metadata": {},
     "output_type": "execute_result"
    }
   ],
   "source": [
    "L = 1e5  # length of wire in meters\n",
    "rho = 1 # pigeon per meter\n",
    "X = draw_pigeons(L, rho)    \n",
    "len(X), count_pairs(X, 0.05), 0.1 * L * rho * rho / 2"
   ]
  },
  {
   "cell_type": "markdown",
   "metadata": {},
   "source": [
    "Now let's find the *mean* of the number of nearby pairs by sampling from the distribution a lot of times:"
   ]
  },
  {
   "cell_type": "code",
   "execution_count": 6,
   "metadata": {},
   "outputs": [
    {
     "data": {
      "text/plain": [
       "'Average number of pairs = 5004.24, with SD=74.42474319740714; expected value=5000.0'"
      ]
     },
     "execution_count": 6,
     "metadata": {},
     "output_type": "execute_result"
    }
   ],
   "source": [
    "nreps = 100\n",
    "npairs = [count_pairs(draw_pigeons(L, rho), 0.05) for _ in range(nreps)]\n",
    "mean_pairs = np.mean(npairs)\n",
    "sd_pairs = np.std(npairs)\n",
    "f\"Average number of pairs = {mean_pairs}, with SD={sd_pairs}; expected value={0.1*L*rho*rho/2}\""
   ]
  }
 ],
 "metadata": {
  "kernelspec": {
   "display_name": "Python 3",
   "language": "python",
   "name": "python3"
  },
  "language_info": {
   "codemirror_mode": {
    "name": "ipython",
    "version": 3
   },
   "file_extension": ".py",
   "mimetype": "text/x-python",
   "name": "python",
   "nbconvert_exporter": "python",
   "pygments_lexer": "ipython3",
   "version": "3.7.2"
  }
 },
 "nbformat": 4,
 "nbformat_minor": 2
}
