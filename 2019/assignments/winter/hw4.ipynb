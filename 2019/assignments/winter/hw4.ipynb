{
 "cells": [
  {
   "cell_type": "markdown",
   "metadata": {},
   "source": [
    "# $R_0$ and the epidemic model\n",
    "\n",
    "In the \"epidemic\" model from class,\n",
    "each infected individual infected others at rate $\\lambda$,\n",
    "but recovered at rate $\\mu$.\n",
    "In other words, everyone who is infected remained infected\n",
    "for a random amount of time with an Exponential($\\mu$) distribution, and, while infected,\n",
    "infects others at the times of a Poisson process of rate $\\lambda$.\n",
    "Let $Z$ denote the (random) number of other people infected by a given person.\n",
    "\n",
    "1. $R_0$ is the mean number of new infections per infected person,\n",
    "   i.e., $\\mathbb{E}[Z]$.\n",
    "   Show that $R_0 = \\lambda / \\mu$.\n",
    "\n",
    "2. Define $\\phi(u) = \\mathbb{E}[u^Z]$.\n",
    "   Last quarter, we showed that $p_*$, the probability\n",
    "   that a single infection leads to an epidemic,\n",
    "   is the largest solution to $1 - p_* = \\phi(1 - p_*)$.\n",
    "   Find $p_*$ for this model, as a function of $R_0$.\n",
    "\n",
    "\n",
    "p.s. Here is an article discussing $R_0$, in practice:\n",
    "  https://www.theatlantic.com/science/archive/2020/01/how-fast-and-far-will-new-coronavirus-spread/605632/"
   ]
  },
  {
   "cell_type": "markdown",
   "metadata": {},
   "source": [
    "# Block stacking\n",
    "\n",
    "My two-year-old stacks blocks, adding a new block to the existing stack at an average rate of 6 per minute.\n",
    "The chance that a tower of $n$ blocks does not fall over during the course of $t$ minutes is $\\exp(-nt)$.\n",
    "Once the tower falls over, it becomes a tower of 0 blocks, and construction continues.\n",
    "Modeling the height of the tower as a continuous time Markov chain,\n",
    "find the four quantities listed below.\n",
    "Please simulate the process, and use your simultion check each of your answers.\n",
    "\n",
    "1. The probability that a given tower reaches height $N$ before collapsing.\n",
    "2. The mean time until a tower, begun with 1 block, collapses.\n",
    "3. The stationary distribution of the height of the tower.\n",
    "4. Compute by numerically evaluating $e^{tG}$, the probability that there will be a tower with 6 blocks present 1 minute after starting to stack."
   ]
  },
  {
   "cell_type": "markdown",
   "metadata": {},
   "source": [
    "# Random walk on a weighted graph\n",
    "\n",
    "Let $G$ be an undirected graph with vertex set $V$ and edge set $E$,\n",
    "and let $w : E \\to \\mathbb{R}_{\\ge 0}$ a *weighting* of the edges.\n",
    "Define $X$ to be the continuous-time Markov chain on $V$ that,\n",
    "when at vertex $v$, jumps to vertex $u$ with rate equal to the weight on the edge between $u$ and $v$,\n",
    "i.e., with rate $w(\\{u,v\\})$.\n",
    "Show that the stationary distribution of $X$ is uniform on $V$."
   ]
  }
 ],
 "metadata": {
  "kernelspec": {
   "display_name": "Python 3",
   "language": "python",
   "name": "python3"
  },
  "language_info": {
   "codemirror_mode": {
    "name": "ipython",
    "version": 3
   },
   "file_extension": ".py",
   "mimetype": "text/x-python",
   "name": "python",
   "nbconvert_exporter": "python",
   "pygments_lexer": "ipython3",
   "version": "3.7.2"
  }
 },
 "nbformat": 4,
 "nbformat_minor": 2
}
