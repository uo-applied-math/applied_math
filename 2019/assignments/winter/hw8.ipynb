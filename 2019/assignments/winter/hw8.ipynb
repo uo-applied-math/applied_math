{
 "cells": [
  {
   "cell_type": "markdown",
   "metadata": {},
   "source": [
    "# How is it Markov?\n",
    "\n",
    "Let $X(t) = X(0) + \\alpha t$.\n",
    "(To be concrete, imagine that this is the distance to a boat moving at constant speed\n",
    "$\\alpha$ meters/second that starts at distance $X(0)$.)\n",
    "\n",
    "1. Show that $X(t)$ is a Markov process.\n",
    "2. Find the generator of $X$.\n"
   ]
  },
  {
   "cell_type": "markdown",
   "metadata": {},
   "source": [
    "# Logistic distributions\n",
    "\n",
    "Let $X(t)$ be the diffusion process on $[0,\\infty)$ that solves\n",
    "$$ dX(t) = 2 \\sqrt{X(t)} dB(t) + n dt ,$$\n",
    "for some $n > 0$.\n",
    "\n",
    "1. Find the hitting probabilities: $h_{a,b}(x) = \\mathbb{P}^x\\{X \\text{ hits } b \\text{ before } a\\}$,\n",
    "    for $a \\le x \\le b$.\n",
    "2. Verify these with simulations at $n=1$, $n=2$, and $n=3$ for $a = 1 < x < b = 2$.\n"
   ]
  }
 ],
 "metadata": {
  "kernelspec": {
   "display_name": "Python 3",
   "language": "python",
   "name": "python3"
  },
  "language_info": {
   "codemirror_mode": {
    "name": "ipython",
    "version": 3
   },
   "file_extension": ".py",
   "mimetype": "text/x-python",
   "name": "python",
   "nbconvert_exporter": "python",
   "pygments_lexer": "ipython3",
   "version": "3.7.2"
  }
 },
 "nbformat": 4,
 "nbformat_minor": 2
}
