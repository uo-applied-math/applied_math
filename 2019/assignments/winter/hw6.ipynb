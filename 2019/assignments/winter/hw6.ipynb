{
 "cells": [
  {
   "cell_type": "markdown",
   "metadata": {},
   "source": [
    "# A noisy pendulum\n",
    "\n",
    "Suppose that $X(t)$ denotes the lateral displacement of a very small pendulum that\n",
    "is pushed around by random molecular fluctuations,\n",
    "with a small restoring force that is proportional to its displacement,\n",
    "so that\n",
    "$$\n",
    "  dX(t) = - c X(t) dt + dB(t) ,\n",
    "$$\n",
    "where $B(t)$ is a standard Brownian motion.\n",
    "\n",
    "1. Simulate this process, by picking a small $dt$ and doing small steps that approximate the above equation:\n",
    "   $$ X(t + dt) - X(t) = - c X(t) dt + W, $$\n",
    "   where $W$ is random (what distribution should $W$ have?).\n",
    "\n",
    "2. It turns out that $X(t)$ can be defined directly in terms of white noise as follows:\n",
    "   $$ X(t) = e^{-ct} X(0) + \\int_0^t e^{-c(t-s)} dB(s) .$$\n",
    "   Show that if we define $X(t)$ in this way, then the increment, $X(t+dt) - X(t)$, has the mean and variance\n",
    "   implied by the equation above for small $dt$. (The mean and variance of the increment\n",
    "   should be computed with $X(t)$ *given*, e.g., $\\mathbb{E}[X(t+dt)-X(t)|X(t)]$.\n",
    "   To do this, write $X(t+dt)$ as a sum of two terms: one which is a deterministic function of $X(t)$\n",
    "   and one which is *independent* of $X(t)$.)\n",
    "\n",
    "3. Take $X(0) = 0$ and use the expression of part (2) to compute\n",
    "    $$ \\text{cov}[X(s), X(s+t)] .$$"
   ]
  },
  {
   "cell_type": "markdown",
   "metadata": {},
   "source": [
    "# Gaussian horizons\n",
    "\n",
    "Here is a proposal for a model of a random, mountainous, skyline:\n",
    "let $Z = (Z_1, \\ldots, Z_n)$ be multivariate Gaussian \n",
    "with mean zero and covariance matrix as follows.\n",
    "We imagine these as arranged around a circle,\n",
    "and let $d(i,j) = \\min(|i-j|, n-|i-j|)$ be the circular distance between $i$ and $j$.\n",
    "Then for each $1 \\le i \\le n$ let $\\text{var}[Z_i] = 1.01$ and for $i \\neq j$ let\n",
    "$$ \\text{cov}[Z_i, Z_j] = \\frac{1}{1 + \\left(\\frac{10 \\, d(i,j)}{n}\\right)^2} . $$\n",
    "\n",
    "1. Simulate a few random landscapes from this process with different values of $n$ between\n",
    "    50 and 500.\n",
    "\n",
    "2. For $0 \\le s < t \\le 1$ let $U(s, t) = \\frac{1}{n(t-s)} \\sum_{i=ns}^{nt} Z_i$:\n",
    "    in other words, $U(s,t)$ is the average of the values between positions $s$ and $t$ around the circle,\n",
    "    if the circle has diameter 1. Find an approximation for large $n$ for $\\text{cov}[U(0, s), U(0, t)]$\n",
    "    and check your answer using simulation with a few values of $s$ and $t$."
   ]
  }
 ],
 "metadata": {
  "kernelspec": {
   "display_name": "Python 3",
   "language": "python",
   "name": "python3"
  },
  "language_info": {
   "codemirror_mode": {
    "name": "ipython",
    "version": 3
   },
   "file_extension": ".py",
   "mimetype": "text/x-python",
   "name": "python",
   "nbconvert_exporter": "python",
   "pygments_lexer": "ipython3",
   "version": "3.7.2"
  }
 },
 "nbformat": 4,
 "nbformat_minor": 2
}
