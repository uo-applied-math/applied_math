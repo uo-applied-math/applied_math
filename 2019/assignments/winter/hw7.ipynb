{
 "cells": [
  {
   "cell_type": "markdown",
   "metadata": {},
   "source": [
    "# Logistic Brownian Motion\n",
    "\n",
    "Let $B(t)$ be standard Brownian motion\n",
    "and\n",
    "$$ X(t) = \\frac{1}{1 + \\exp(-B(t))} .$$\n",
    "\n",
    "1. Use Itô's formula to write an integral equation for $X(t)$.\n",
    "2. Simulate a discretized approximation for the integral equation, and show that it agrees with the definition above."
   ]
  },
  {
   "cell_type": "markdown",
   "metadata": {},
   "source": [
    "# Multiplicative meander\n",
    "\n",
    "Suppose that you are growing a culture of microbes.\n",
    "Each day some reproduce and some die, with a fair bit of randomness --\n",
    "the per-capita net reproduction rate (birth minus death) in a typical day \n",
    "has the distribution $1.01 + W$,\n",
    "where $W$ is a Gaussian with mean 0 and variance $0.02$.\n",
    "In other words, if the population at day $k$ is $X_k$, then\n",
    "$$ X_{k+1} = X_k \\left(1.01 + W_{k+1}\\right), $$\n",
    "where $W_1, W_2, \\ldots$ are iid N(0, 0.02) random variables.\n",
    "\n",
    "1. Suppose that there is an underlying continuous process,\n",
    "   $X_k = X(k dt)$ for some time increment $dt$.\n",
    "   What is the stochastic differential equation (SDE) that describes $X(t)$?\n",
    "\n",
    "2. Show that the SDE from part (1) is solved by a function of Brownian motion: $X(t) = f(B(t))$ for some function $f$ (whch you should find).\n",
    "\n",
    "3. Compare a direct simulation of the discrete dynamics described above to $f(B(t))$."
   ]
  }
 ],
 "metadata": {
  "kernelspec": {
   "display_name": "Python 3",
   "language": "python",
   "name": "python3"
  },
  "language_info": {
   "codemirror_mode": {
    "name": "ipython",
    "version": 3
   },
   "file_extension": ".py",
   "mimetype": "text/x-python",
   "name": "python",
   "nbconvert_exporter": "python",
   "pygments_lexer": "ipython3",
   "version": "3.7.2"
  }
 },
 "nbformat": 4,
 "nbformat_minor": 2
}
