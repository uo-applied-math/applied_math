{
 "cells": [
  {
   "cell_type": "markdown",
   "metadata": {},
   "source": [
    "## Brownian motion\n",
    "\n",
    "\n",
    "1. Simulate and plot at least 1000 paths of standard Brownian motion over the time interval $[0, 8]$,\n",
    "with a time resolution of at least 1000 time points.\n",
    "\n",
    "2. Compare the distribution of the values at time $t$ to the theoretical distribution for $B(t)$\n",
    "at $t \\in \\{0.5, 1, 2, 4, 8\\}$.\n",
    "\n",
    "3. Compute the proportion of your simulations that hit $x$ before -1,\n",
    "    for $0 \\le x \\le 1$, and compare to the theoretical value."
   ]
  },
  {
   "cell_type": "markdown",
   "metadata": {},
   "source": [
    "## Random walkers\n",
    "\n",
    "Here, I would like you to simulate a (single) random \"environment\",\n",
    "and then compute some things about the random walk in that \"environment\".\n",
    "The random walk will be a continuous-time Markov chain on $(0, 1, 2, \\ldots, N)$,\n",
    "with jump rates $G_{xy} = 0$ if $|x-y| > 2$,\n",
    "and each other jump rate independently drawn from a Uniform distribution on $[0,1]$:\n",
    "$$ G_{xy} \\sim \\text{Uniform}(0,1) \\qquad \\text{if } y \\in \\{x-2, x-1, x+1, x+2\\} \\cap \\{0, 1, 2, \\ldots, N\\} .$$\n",
    "Fix $N=100$.\n",
    "\n",
    "1. First, construct a single random instance of $G$. To make this *reproducible* (ie always the same)\n",
    "please first *set the random seed*.\n",
    "\n",
    "2. Let $X(t)$ be the CTMC with generator matrix $G$.\n",
    "    Using the matrix $G$ from (1) and linear algebra routines, compute and plot\n",
    "    \n",
    "    1. $p(t, x) = \\mathbb{P}^0\\{X(t) = x\\}$, the probability that $X$ is at $x$ at time $t$ if started from $0$,\n",
    "        for $0 \\le t \\le 100$ and $0 \\le x \\le N$.\n",
    "\n",
    "    2. $h(x) = \\mathbb{P}^x\\{\\tau_N < \\tau_0\\}$, the probability that $X$ hits $N$ before 0 if started from $x$.\n",
    "    \n",
    "    3. $f(x) = \\mathbb{E}^x[\\tau_N]$, the mean time to hit $N$ started from $x$.\n",
    "    \n",
    "3. Use your code to compute $h(x)$, $f(x)$, and $p(t)$ for at least 20 more independent random instances of $G$,\n",
    "    and plot them together (one plot for each, with 20 lines per plot)."
   ]
  }
 ],
 "metadata": {
  "kernelspec": {
   "display_name": "Python 3",
   "language": "python",
   "name": "python3"
  },
  "language_info": {
   "codemirror_mode": {
    "name": "ipython",
    "version": 3
   },
   "file_extension": ".py",
   "mimetype": "text/x-python",
   "name": "python",
   "nbconvert_exporter": "python",
   "pygments_lexer": "ipython3",
   "version": "3.7.2"
  }
 },
 "nbformat": 4,
 "nbformat_minor": 2
}
