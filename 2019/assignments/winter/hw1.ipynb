{
 "cells": [
  {
   "cell_type": "markdown",
   "metadata": {},
   "source": [
    "# Stein's lemma\n",
    "\n",
    "Show that if $W$ is a nonnegative integer-valued random variable,\n",
    "then\n",
    "$$  \\lambda \\mathbb{E}[f(W + 1)] = \\mathbb{E}[W f(W)] $$\n",
    "for all bounded $f$\n",
    "if and only if\n",
    "$W$ has a Poisson distribution with mean $\\lambda$."
   ]
  },
  {
   "cell_type": "markdown",
   "metadata": {},
   "source": [
    "# Deposits\n",
    "\n",
    "Customers arrive at a bank throughout the work day (nine to five) at the times of a homogeneous Poisson process,\n",
    "with an average arrival rate of one every 5 minutes.\n",
    "Each customer, independently, either deposits one dollar or deposits ten dollars, with probability 1/2 each.\n",
    "Let $C$ be the number of customers and $T$ be the total amount deposited.\n",
    "What is the covariance of $C$ and $T$?"
   ]
  },
  {
   "cell_type": "markdown",
   "metadata": {},
   "source": [
    "# Birds on a wire\n",
    "\n",
    "An infinitely long telephone wire has birds (specifically, European Starlings, *Sturnus vulgaris*)\n",
    "sitting on it, with a mean density of one starling per meter.\n",
    "Suppose that (a) no two birds are sitting at the same place, and\n",
    "(b) the numbers of birds sitting on any two disjoint segments of wire are independent of each other.\n",
    "\n",
    "1. We survey 100km of wire. How many pairs of birds do we expect to see sitting within 5cm of each other?\n",
    "   (All pairs count - if $k$ birds are sitting on a given 5cm, there are $\\binom{5}{2}$ pairs.)\n",
    "\n",
    "2. All the birds fly up and land again at a random location further down the wire:\n",
    "    every bird independently flies a random, Exponentially distributed distance with mean 20m.\n",
    "    Show that the resulting bird locations has the same distribution as before."
   ]
  },
  {
   "cell_type": "markdown",
   "metadata": {},
   "source": [
    "# Number of pairs?\n",
    "\n",
    "Let $X$ denote the number of *adjacent pairs* in a well-shuffled deck of cards,\n",
    "i.e., the number of $1 \\le i \\le 51$ such that the $i$th and $(i+1)$st cards have the same value\n",
    "(although perhaps different suits).\n",
    "\n",
    "1. Find $\\mathbb{E}[X]$.\n",
    "2. Someone argues that since the chance of there being a pair at position $i$ is small,\n",
    "    and so $X$ is the total number of a bunch of unlikely things, that $X$ is close to Poisson.\n",
    "    Give at least two distinct reasons that $X$ does *not* actually have the Poisson distribution.\n",
    "3. However, it's not far off:\n",
    "    Use at least 10,000 simulations of process to assess empirically how close the distribution of $X$\n",
    "    is to the Poisson distribution with the same mean."
   ]
  },
  {
   "cell_type": "markdown",
   "metadata": {},
   "source": [
    "# Uniform?\n",
    "\n",
    "For a collection of points $\\{(x_i, y_i)\\}_{i=1}^N \\subset \\mathbb{R}^2$, define\n",
    "$$\\begin{aligned}\n",
    "    P(\\sigma)\n",
    "    &= \\sum_{i \\neq j} \\frac{1}{2 \\pi \\sigma^2} \\exp\\left(- \\frac{(x_i - x_j)^2 + (y_i - y_j)^2}{2 \\sigma^2} \\right) .\n",
    "\\end{aligned}$$\n",
    "\n",
    "1. Draw $N=150$ points uniformly and independently on the unit square and compute $P$ as a function of $r$.\n",
    "    Plot this.\n",
    "\n",
    "2. Simulate an *overdispersed* point process on the unit square\n",
    "    - i.e., one in which the points are *more* regularly spaced than at \"random\" - and do the same.\n",
    "\n",
    "3. Do the same for an underdispersed one - i.e., one in which they tend to clump together.\n",
    "\n",
    "4. Interpret the differences between the three curves (note: you should simulate from each one a bunch of times,\n",
    "    so you can differentiate trend from noise)."
   ]
  }
 ],
 "metadata": {
  "kernelspec": {
   "display_name": "Python 3",
   "language": "python",
   "name": "python3"
  },
  "language_info": {
   "codemirror_mode": {
    "name": "ipython",
    "version": 3
   },
   "file_extension": ".py",
   "mimetype": "text/x-python",
   "name": "python",
   "nbconvert_exporter": "python",
   "pygments_lexer": "ipython3",
   "version": "3.7.2"
  }
 },
 "nbformat": 4,
 "nbformat_minor": 2
}
