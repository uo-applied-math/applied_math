{
 "cells": [
  {
   "cell_type": "markdown",
   "metadata": {},
   "source": [
    "# Confetti\n",
    "\n",
    "We plan to drop a great deal of confetti fom a great height onto a large plaza.\n",
    "Each piece of confetti is a thin paper circle of radius 1cm;\n",
    "suppose that the confetti will fall more or less uniformly across the plaza\n",
    "and that confetti may cover each other.\n",
    "\n",
    "1. What density of confetti (in pieces per square meter)\n",
    "   do we need to drop so that around 99% of the plaza will be covered by at least one piece of confetti?\n",
    "\n",
    "2. If we drop confetti at this density, what is the total area of confetti per square meter?\n",
    "   (This number will be larger than a square meter because of overlap.)\n",
    "\n",
    "3. Check your solutions by simulation.\n",
    "    To do this, simulate and plot a picture of the confetti process on the unit square (to avoid edge effects,\n",
    "    simulate uniform confetti on a larger square); then estimate the proprotion covered by asking how often some set of points is covered across many simulations."
   ]
  },
  {
   "cell_type": "markdown",
   "metadata": {},
   "source": [
    "# Flip-flop\n",
    "\n",
    "Let $X(t)$ be a continuous-time Markov process on the two discrete states $\\{-1, +1\\}$,\n",
    "that jumps to the other state at rate 1.\n",
    "What is $\\mathbb{E}[X(0) X(t)]$?\n",
    "Check your solution by simulation."
   ]
  },
  {
   "cell_type": "markdown",
   "metadata": {},
   "source": [
    "# Steps\n",
    "\n",
    "Radio pulses arrive at times $0 = T_0 < T_1 < T_2 < \\cdot$,\n",
    "with each inter-pulse interval $S_k = T_k - T_{k-1}$ independently distributed as a Uniform random variable on $[0,1]$.\n",
    "This is *not* a Poisson process.\n",
    "\n",
    "1. Find $\\mathbb{P}\\{S_k > t+s | S_k > t\\}$.\n",
    "2. How does this show that this is not a Poisson process?  (What would the answer to (1) be if it was?)"
   ]
  }
 ],
 "metadata": {
  "kernelspec": {
   "display_name": "Python 3",
   "language": "python",
   "name": "python3"
  },
  "language_info": {
   "codemirror_mode": {
    "name": "ipython",
    "version": 3
   },
   "file_extension": ".py",
   "mimetype": "text/x-python",
   "name": "python",
   "nbconvert_exporter": "python",
   "pygments_lexer": "ipython3",
   "version": "3.7.2"
  }
 },
 "nbformat": 4,
 "nbformat_minor": 2
}
