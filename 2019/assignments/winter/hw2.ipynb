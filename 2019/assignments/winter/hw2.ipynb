{
 "cells": [
  {
   "cell_type": "markdown",
   "metadata": {},
   "source": [
    "# A wet frog\n",
    "\n",
    "A frog is sitting in a rainstorm, and drops are falling on its back at random, independent,\n",
    "Exponential(1)-distributed intervals (i.e., as a PPP(1) in time).\n",
    "Every time a drop lands, it either hops left (probability 1/2) or right (probability 1/2).\n",
    "Let $X(t)$ denote the displacement of the frog after time $t$\n",
    "(in number of hops relative to its starting location, e.g., $X(t) = -3$ is three hops to the left).\n",
    "\n",
    "1. Use Poisson labeling to find the mean and variance of $X(t)$.\n",
    "\n",
    "2. Find the *cumulant generating function* of $X(t)$, defined as $K_t(u) = \\log \\mathbb{E}[e^{uX(t)}]$.\n",
    "\n",
    "3. Use this to derive an expression for the $n$th cumulant of $X(t)$, for each $n \\ge 1$.\n",
    "   Note that the first cumulant is the mean and the second is the variance.\n",
    "   \n",
    "4. Use simulation to check your result."
   ]
  },
  {
   "cell_type": "markdown",
   "metadata": {},
   "source": [
    "# Noisy communication\n",
    "\n",
    "We are talking over a very long telephone cable strung through the woods on a dark night.\n",
    "Unfortunately, in the woods a great many deer are going about their nightly business,\n",
    "and whenever the deer step on the cable, it disrupts our communication for a few seconds.\n",
    "Let's assume that deer step on the cable an average of once per minute,\n",
    "and that each time it disrupts our call for a random, Exponential amount of time with mean 10 seconds.\n",
    "\n",
    "\n",
    "1. Assuming these \"deer events\" can be modeled as a Poisson process,\n",
    "    what is the long-run proportion of the time that the call is not disrupted?\n",
    "\n",
    "2. Actually, deer travel in small groups. Will this make the answer to part (1) bigger or smaller?"
   ]
  },
  {
   "cell_type": "markdown",
   "metadata": {},
   "source": [
    "# Shot noise\n",
    "\n",
    "We are measuring $Y(t)$, the activity level of a neuron,\n",
    "that is recieving inputs at random times.\n",
    "Each input increases activity by one unit immediately, and the effect of this decays exponentially with time,\n",
    "so if inputs occurred at times $s_1 < s_2 < \\cdots < s_n \\le t$ so far, then the activity at time $t$ is\n",
    "$$ Y(t) = \\sum_k exp(-(t-s_k)) , $$\n",
    "where times are measured in seconds.\n",
    "Suppose the arrival times of the inputs are a Poisson process with a mean of 100 arrivals per minute.\n",
    "\n",
    "1. Simulate this process, and plot measurements $Y(t)$ taken 10 times each second for at least one minute.\n",
    "\n",
    "2. Find $\\mathbb{E}[Y(t)]$ and $\\text{var}[Y(t)]$."
   ]
  }
 ],
 "metadata": {
  "kernelspec": {
   "display_name": "Python 3",
   "language": "python",
   "name": "python3"
  },
  "language_info": {
   "codemirror_mode": {
    "name": "ipython",
    "version": 3
   },
   "file_extension": ".py",
   "mimetype": "text/x-python",
   "name": "python",
   "nbconvert_exporter": "python",
   "pygments_lexer": "ipython3",
   "version": "3.7.2"
  }
 },
 "nbformat": 4,
 "nbformat_minor": 2
}
