{
 "cells": [
  {
   "cell_type": "markdown",
   "metadata": {},
   "source": [
    "# Assignment 4\n",
    "\n",
    "Due Wednesday Oct 30"
   ]
  },
  {
   "cell_type": "markdown",
   "metadata": {},
   "source": [
    "# 1. Convergence of composition of generating functions\n",
    "\n",
    "Let $X$ be a probability distribution on nonnegative integers,\n",
    "defined by a sequence $p_n = \\mathbb{P}\\{X = n\\}$ for $n \\in \\{0, 1, 2, \\ldots\\}$,\n",
    "and $\\phi(u) = \\mathbb{E}[u^X]$ its generating function.\n",
    "(Note that here we are using $\\phi$ as a function, not just a formal power series.)\n",
    "\n",
    "*a.* Write a function that takes a (finite) sequence $p$ and returns the *function* $\\phi$.\n",
    "\n",
    "*b.* Let $p_5 = 1 - p_0 = a$, and use your function to make a plot of $\\phi(u)$ against $u$ for $0 \\le u \\le 1$\n",
    "    for $a \\in \\{0.1, 0.2, 0.3, 0.4, 0.5\\}$. Do the same for the Poisson distribution.\n",
    "\n",
    "*c.* Verify, numerically, that $\\phi(\\phi(\\cdots \\phi(u))) = \\phi^{(k)}(u) \\to 1-q$, where $1-q$ is the smallest fixed point of $\\phi$,\n",
    "    for a few choices of initial value $0 \\le u < 1$.\n",
    "    Do this for the $\\phi$s in part (b).\n",
    "    Show the convergence, graphically."
   ]
  },
  {
   "cell_type": "markdown",
   "metadata": {},
   "source": [
    "# 2. An extreme branching process\n",
    "\n",
    "The results we proved about branching processes assumed that the offspring distribution\n",
    "had finite mean.\n",
    "What happens if it *doesn't*?\n",
    "Investigate the branching process with offspring distribution $X$ defined as follows:\n",
    "let $U$ be a random uniform number between 0 and 1, and let $X = \\lfloor 1/U \\rfloor - 1$.\n",
    "\n",
    "a. Find $\\mathbb{P}\\{X = n\\}$ for $n \\ge 0$ and show that $X$ has infinite mean.\n",
    "\n",
    "b. Find an expression for the generating function of $X$,\n",
    "    and compare the numerical value produced by your expression\n",
    "    to values obtained by numerical computation using your generating-function-producing function\n",
    "    written in the previous problem.\n",
    "    Do the comparison by evaluating both along a regularly spaced grid of points between 0 and 1.\n",
    "\n",
    "c. Write code that will simulate the branching process with distribution $X$\n",
    "   for a given number of generations.\n",
    "   (Note: to avoid bad things happening,\n",
    "   you may want to ask it to terminate early if a pre-set large number is reached.)\n",
    "\n",
    "d. Use a large number of runs of your code to estimate the probability that the branching process\n",
    "   does not go extinct. Numerically verify the extinction probability is a fixed point of the generating function."
   ]
  },
  {
   "cell_type": "markdown",
   "metadata": {},
   "source": [
    "# 3. $d$-regular eigenvalues\n",
    "\n",
    "Recall that the *adjacency matrix* $A$ of an undirected graph is the matrix with $A_{ij} = 1$ if there is an edge between $i$ and $j$ in the graph, and $A_{ij} = 0$ otherwise.\n",
    "A $d$*-regular* graph is one for which the degree of every vertex is exactly $d$.\n",
    "\n",
    "*a.* Show that the adjacency matrix of the *complete graph* on $n$ vertices (i.e., the $(n-1)$-regular graph)\n",
    "    has two eigenvalues: $n-1$, with multiplicity 1, and $-1$, with multiplicity $n-1$.\n",
    "    \n",
    "*b.* Show that the adjacency matrix of any $d$-regular graph has an eigenspace with eigenvalue $d$. What determines the dimension of this eigenspace?"
   ]
  },
  {
   "cell_type": "markdown",
   "metadata": {},
   "source": [
    "# 4. A random communication network\n",
    "\n",
    "An engineer proposes to build a swarm of $N$ autonomous robots that communicate with each other as follows.\n",
    "Each robot only has capacity to recieve messages on one channel (unique to that robot)\n",
    "and to send messages on $k$ channels.\n",
    "So, each robot chooses $k$ other robots, uniformly at random, to send messages to;\n",
    "it will pass along to these any messages it recieves.\n",
    "Unfortunately, some robots are broken - with probability $\\epsilon$, each robot cannot send messages at all.\n",
    "\n",
    "*a.* Will the resulting directed communication graph be \"strongly connected\":\n",
    "    i.e., will a message sent by any robot eventually reach all other robots?\n",
    "    *(hint: What proportion of robots don't have any inbound connections?)\n",
    "    \n",
    "*b.* Give conditions on $k$ and $\\epsilon$ so that, with high probability,\n",
    "    the robots *mostly* can communicate with each other: i.e.,\n",
    "    there is a \"large\" group of robots of size that can all send messages to each other.\n",
    "    Here, \"large\" means a group of size a positive proportion of $N$.\n",
    "    \n",
    "*c.* Using a branching process approximation,\n",
    "    estimate the proportion of robots that can send messages to a large group of the other robots,\n",
    "    as a function of $k$ and $\\epsilon$."
   ]
  }
 ],
 "metadata": {
  "kernelspec": {
   "display_name": "Python 3",
   "language": "python",
   "name": "python3"
  },
  "language_info": {
   "codemirror_mode": {
    "name": "ipython",
    "version": 3
   },
   "file_extension": ".py",
   "mimetype": "text/x-python",
   "name": "python",
   "nbconvert_exporter": "python",
   "pygments_lexer": "ipython3",
   "version": "3.7.2"
  }
 },
 "nbformat": 4,
 "nbformat_minor": 2
}
