{
 "cells": [
  {
   "cell_type": "markdown",
   "metadata": {},
   "source": [
    "# Random walk on a graph\n",
    "\n",
    "Let $G$ be an undirected finite graph.\n",
    "Let $X$ be a random walk on the vertices of $G$,\n",
    "so that at each time step, if $X(t) = v$,\n",
    "then $X(t+1)$ is a uniformly chosen neighbor of $v$.\n",
    "\n",
    "1. Show that this random walk is reversible,\n",
    "    and find a stationary distribution.\n",
    "\n",
    "2. Let $P$ be the transition matrix of this random walk,\n",
    "    and show that the right null space of $(P - I)$ is spanned by vectors\n",
    "    that are constant on each connected component of the graph.\n",
    "    (*Hint:* suppose that $Px = x$ but $x$ has a local maximum.)\n",
    "\n",
    "3. Modify the random walk so that the *uniform* distribution on vertices\n",
    "    is a stationary distribution."
   ]
  },
  {
   "cell_type": "markdown",
   "metadata": {},
   "source": [
    "# Adjacency matrices and random walks\n",
    "\n",
    "Let $A$ be the adjacency matrix of an undirected finite graph $G = (V, E)$,\n",
    "i.e., $A_{ij} = 1$ if $(i, j)$ is an edge in the graph, and $A_{ij} = 0$ otherwise.\n",
    "\n",
    "1. Let $D$ be the diagonal matrix with $D_{ii} = \\text{deg}(i)$.\n",
    "    Show that $P_t = \\exp(t(A - D))$ is a valid transition matrix for any $t > 0$.\n",
    "\n",
    "2. Prove that $P_t$ has the *same* stationary distributions for any $t$,\n",
    "    and that any such stationary distribution $\\pi$ must solve $\\pi A = \\pi D$."
   ]
  },
  {
   "cell_type": "markdown",
   "metadata": {},
   "source": [
    "# Traveling sales\n",
    "\n",
    "Here is a matrix of distances between 10 cities:\n",
    "```\n",
    "array([[  0.,  23.,  22., 102., 100.,  18.,  79.,  26.,  47.,  84.],\n",
    "       [ 23.,   0.,  45.,  81.,  79.,   7.,  75.,  26.,  29.,  62.],\n",
    "       [ 22.,  45.,   0., 125., 122.,  41.,  93.,  39.,  69., 106.],\n",
    "       [102.,  81., 125.,   0.,  11.,  84.,  82., 102.,  57.,  18.],\n",
    "       [100.,  79., 122.,  11.,   0.,  82.,  71., 102.,  53.,  19.],\n",
    "       [ 18.,   7.,  41.,  84.,  82.,   0.,  70.,  29.,  29.,  65.],\n",
    "       [ 79.,  75.,  93.,  82.,  71.,  70.,   0.,  99.,  53.,  71.],\n",
    "       [ 26.,  26.,  39., 102., 102.,  29.,  99.,   0.,  55.,  84.],\n",
    "       [ 47.,  29.,  69.,  57.,  53.,  29.,  53.,  55.,   0.,  39.],\n",
    "       [ 84.,  62., 106.,  18.,  19.,  65.,  71.,  84.,  39.,   0.]])\n",
    "```\n",
    "Write a simulated annealing algorithm to find the shortest tour of all cities (that returns to where it started).\n",
    "Verify that the answer is correct by exhaustive search."
   ]
  },
  {
   "cell_type": "markdown",
   "metadata": {},
   "source": [
    "# The Monte Carlo's storeroom\n",
    "\n",
    "Write an MCMC to sample from the Gibbs distribution on box stackings\n",
    "with $H(S) = |S|/T$, where $|S|$ is the number of boxes in the stacking $S$,\n",
    "and $T$ is the temperature.\n",
    "Use the following code to animate your MCMC as a visual sanity check at both low temperature and high temperature.\n",
    "Verify that the code samples from the correct distribution\n",
    "using a very small example (e.g., 2x2x2)."
   ]
  },
  {
   "cell_type": "code",
   "execution_count": null,
   "metadata": {},
   "outputs": [],
   "source": [
    "import numpy as np\n",
    "import matplotlib.pyplot as plt\n",
    "from matplotlib import collections as cs\n",
    "from matplotlib import animation as ani\n",
    "plt.rcParams[\"animation.html\"] = \"jshtml\""
   ]
  },
  {
   "cell_type": "code",
   "execution_count": null,
   "metadata": {},
   "outputs": [],
   "source": [
    "plt.rcParams['figure.figsize'] = [8, 8]"
   ]
  },
  {
   "cell_type": "code",
   "execution_count": null,
   "metadata": {},
   "outputs": [],
   "source": [
    "def proj(a, b, c):\n",
    "    xy = np.array(a * np.array([1/2, -1/4])\n",
    "                  + b * np.array([-1/2, -1/4])\n",
    "                  + c * np.array([0, 1/2]))\n",
    "    return xy\n",
    "\n",
    "def box(a, b, c, top, left, right):\n",
    "    out = []\n",
    "    if top:\n",
    "        out.extend([(0, 0), (-1/2, 1/4), (0, 1/2), (1/2, 1/4), (0, 0)])\n",
    "    if left:\n",
    "        out.extend([(0, 0), (-1/2, 1/4), (-1/2, -1/4), (0, -1/2), (0, 0)])\n",
    "    if right:\n",
    "        out.extend([(0, 0), (1/2, 1/4), (1/2, -1/4), (0, -1/2), (0, 0)])\n",
    "    out = np.array(out)\n",
    "    if len(out) > 0:\n",
    "        out += proj(a, b, c)\n",
    "    return out\n",
    "\n",
    "class BoxStack(object):\n",
    "    \n",
    "    def __init__(self, dims):\n",
    "        # initialize self with no boxes\n",
    "        self.dims = dims\n",
    "        # this 3d array will have a 1 at [i,j,k] if there is a box there\n",
    "        self.boxes = np.repeat(False, np.prod(dims)).reshape(dims)\n",
    "    \n",
    "    def size(self):\n",
    "        return np.sum(self.boxes)\n",
    "    \n",
    "    def setbox(self, a, b, c, z):\n",
    "        self.boxes[a, b, c] = z\n",
    "    \n",
    "    def box(self, a, b, c):\n",
    "        return box(a, b, c,\n",
    "                   top=((a >= 0 and b >= 0) and\n",
    "                        ((c == self.dims[2] - 1)\n",
    "                         or not self.boxes[a, b, c + 1])),\n",
    "                   left=((a >= 0 and c >= 0) and\n",
    "                         ((b == self.dims[1] - 1)\n",
    "                          or not self.boxes[a, b + 1, c])),\n",
    "                   right=((b >= 0 and c >= 0) and\n",
    "                          ((a == self.dims[0] - 1)\n",
    "                           or not self.boxes[a + 1, b, c]))\n",
    "                  )\n",
    "    \n",
    "    def lines(self):\n",
    "        boxen = [self.box(a, b, c) for a in range(self.dims[0])\n",
    "                                   for b in range(self.dims[1])\n",
    "                                   for c in range(self.dims[2])\n",
    "                                   if self.boxes[a, b, c]]\n",
    "        boxen += [self.box(-1, b, c) for b in range(self.dims[1])\n",
    "                                     for c in range(self.dims[2])]\n",
    "        boxen += [self.box(a, -1, c) for a in range(self.dims[0])\n",
    "                                     for c in range(self.dims[2])]\n",
    "        boxen += [self.box(a, b, -1) for a in range(self.dims[0])\n",
    "                                     for b in range(self.dims[1])]\n",
    "        return [u for u in boxen if len(u) > 0]\n",
    "       \n",
    "    def draw(self):\n",
    "        fig, ax = plt.subplots()\n",
    "        boxen = cs.LineCollection(self.lines())\n",
    "        ax.add_collection(boxen)\n",
    "        ax.set(xlim=(-1-self.dims[1]/2, 1+self.dims[0]/2), \n",
    "               ylim=(-1-max(self.dims[0], 1+self.dims[1])/2, self.dims[2]/2),\n",
    "               aspect=1)\n",
    "\n",
    "\n",
    "def animate_boxes(a, b, c, box_list):\n",
    "    S = BoxStack((a, b, c))\n",
    "    fig, ax = plt.subplots()\n",
    "    boxen = cs.LineCollection(S.lines())\n",
    "    ax.add_collection(boxen)\n",
    "    ax.set(xlim=(-(1+S.dims[1])/2, (1+S.dims[0])/2), \n",
    "           ylim=(-(1+max(S.dims[0], S.dims[1]))/2, (1+S.dims[2])/2),\n",
    "           aspect=1)\n",
    "        \n",
    "    def update(frame):\n",
    "        (a, b, c), z = box_list[int(frame)]\n",
    "        S.setbox(a, b, c, z)\n",
    "        boxen.set_paths(S.lines())\n",
    "        return boxen\n",
    "\n",
    "    animation = ani.FuncAnimation(fig, update,\n",
    "                                  frames=np.arange(len(box_list)))\n",
    "    plt.close(animation._fig)\n",
    "    return animation"
   ]
  },
  {
   "cell_type": "code",
   "execution_count": null,
   "metadata": {},
   "outputs": [],
   "source": [
    "# example:\n",
    "S = BoxStack((6, 8, 4))\n",
    "S.setbox(0, 0, 0, True)\n",
    "S.setbox(0, 0, 1, True)\n",
    "S.setbox(0, 1, 0, True)\n",
    "S.setbox(1, 0, 0, True)\n",
    "S.setbox(1, 1, 0, True)\n",
    "S.setbox(0, 2, 0, True)\n",
    "S.draw()"
   ]
  },
  {
   "cell_type": "code",
   "execution_count": null,
   "metadata": {},
   "outputs": [],
   "source": [
    "# another example:\n",
    "boxlist = [[(0, 0, 0), True],\n",
    "           [(0, 0, 1), True],\n",
    "           [(0, 1, 0), True],\n",
    "           [(1, 0, 0), True],\n",
    "           [(1, 1, 0), True],\n",
    "           [(1, 0, 1), True],\n",
    "           [(0, 1, 1), True],\n",
    "           [(1, 1, 1), True]]\n",
    "anim = animate_boxes(4, 5, 6, boxlist + [(a, False) for a, z in reversed(boxlist)])\n",
    "anim"
   ]
  },
  {
   "cell_type": "code",
   "execution_count": null,
   "metadata": {},
   "outputs": [],
   "source": [
    "# yet another example:\n",
    "boxlist = [[(a, b, c), True] for a in range(4) for b in range(5) for c in range(3)]\n",
    "boxlist += list(reversed([[(a, b, c), False] for c in range(3) for b in range(5) for a in range(4)]))\n",
    "\n",
    "anim = animate_boxes(4, 5, 6, boxlist)\n",
    "anim"
   ]
  }
 ],
 "metadata": {
  "kernelspec": {
   "display_name": "Python 3",
   "language": "python",
   "name": "python3"
  },
  "language_info": {
   "codemirror_mode": {
    "name": "ipython",
    "version": 3
   },
   "file_extension": ".py",
   "mimetype": "text/x-python",
   "name": "python",
   "nbconvert_exporter": "python",
   "pygments_lexer": "ipython3",
   "version": "3.7.2"
  }
 },
 "nbformat": 4,
 "nbformat_minor": 2
}
