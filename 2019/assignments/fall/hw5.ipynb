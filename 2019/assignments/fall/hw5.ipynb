{
 "cells": [
  {
   "cell_type": "markdown",
   "metadata": {},
   "source": [
    "## 1. Dust in the Erdős-Rényi random graph\n",
    "\n",
    "Let $G(N,p)$ be an *Erdős-Rényi* (ER) random graph on $N$ vertices with parameter $p$,\n",
    "which is defined to be a random graph on $N$ vertices\n",
    "constructed so that each for each $0 \\le i < j < N$, there is an undirected edge between $i$ and $j$\n",
    "with probability $p$,\n",
    "independently for each pair of vertices.\n",
    "Recall that the *exploration process*, defined in class,\n",
    "partitions the vertex set at each step $t$ into three sets:\n",
    "*active*, $A_t$; *visited*, $V_t$, and *unvisited*, $U_t$.\n",
    "It begins with $A_0 = \\{0\\}$ and $V_0 = \\{\\}$,\n",
    "and at each step moves a random active vertex $v$ to the visited set,\n",
    "while moving any unvisited vertices that are neighbors of $v$ to the active set.\n",
    "\n",
    "1. Let $W_t$ be the number of new vertices added to the active set in step $t$.\n",
    "   This is equal to the number of the $N-t$ unvisited vertices that the target vertex is connected to.\n",
    "   Find $\\phi_t(u) = \\mathbb{E}[u^{W_t}]$, the generating function of $W_t$.\n",
    "   \n",
    "2. Let $D$ be the degree of a randomly chosen vertex,\n",
    "   and let $q$ be the probability of nonextinction of a branching process with offspring distribution given by $D$.\n",
    "   Describe an algorithm to numerically compute $q$ to within some reasonable numerical accuracy.\n",
    "   (*Note that the generating function of $D$ is $\\phi_0(u)$.*)\n",
    "\n",
    "3. Let $C_N$ be the largest connected component of $G(N,p)$,\n",
    "   let $X_u = 0$ if $u \\in C_N$ and $X_u = 1$ otherwise,\n",
    "   and let $Z_{N} = (1/N) \\sum_{u=1}^N X_u = 1 - |C_N|/N$\n",
    "   be the proportion of points *not* in the largest component.\n",
    "   Explain why $\\lim_{N \\to \\infty} \\mathbb{E}[Z_{N}] \\ge 1 - q$."
   ]
  },
  {
   "cell_type": "markdown",
   "metadata": {},
   "source": [
    "## 2. Branching and the exploration process\n",
    "\n",
    "For this problem, you will modify the code that Peter wrote in class, and is [available on the website](https://petrelharp.github.io/applied_math/demos/configuration_process.html).\n",
    "The code simulates the exploration process and the coupled branching process\n",
    "for the configuration model with degree distribution Poisson($\\lambda=0.8$), for a graph of size $N=200$.\n",
    "\n",
    "Refactor the code as a function that takes arguments for $\\lambda$, $N$, and `is_branching_process`\n",
    "and returns a dictionary of relevant output (e.g., `{\"size\" : 1 + t, \"generation\" : generation, ...}`).\n",
    "Use this to make a plot of cluster size against $\\lambda$\n",
    "for at least 200 values of $\\lambda$ between 0 and 2 (so, each simulation will produce one point on the plot).\n",
    "*(Note: do this with `is_branching_process=False`.)*\n",
    "Does the result agree with your theoretical prediction?"
   ]
  },
  {
   "cell_type": "markdown",
   "metadata": {},
   "source": [
    "# 3. spanning trees on the grid\n",
    "\n",
    "For this problem we're going to verify a curious formula: the number of spanning trees on the $m \\times n$ grid graph is\n",
    "$$\n",
    "\\frac{1}{mn} \\prod_{i,j}\\left (4 - 2 \\cos \\frac{i\\pi}{m} - 2 \\cos \\frac{j \\pi}{n} \\right )\n",
    "$$\n",
    "\n",
    "where the product is taken over all pairs $(i,j)$ with $(i,j) \\neq (0,0), 0 \\leq i < m, 0 \\leq j < n$.\n",
    "\n",
    "(a) It is not obvious that the above quantity is an integer (or even a rational number).  Evaluate the formula for small $m,n$, and look up the corresponding numbers on the OEIS.\n",
    "\n",
    "(b) Let $\\chi_n(x)$ be the characteristic polynomial of the Laplacian $\\Delta_n$ of the $n$-path.  Write $\\chi_n$ in terms of the [Chebyshev polynomials of the second kind](https://en.wikipedia.org/wiki/Chebyshev_polynomials).  \n",
    "\n",
    "I knew to do this by computing $\\chi_5 = x^5 - 8x^4 + 21x^3 - 20x^2 + 5x$, and then looking up those coefficients on the OEIS, which then told me to look up Chebyshev polynomials on Wikipedia.  You may take anything Wikipedia says about Chebyshev polynomials as true.\n",
    "\n",
    "(c) Continue to use Wikipedia to learn what the roots of $\\chi_n(x)$ are. Then use the matrix tree theorem to verify the formula above.  This goes much like the problem, on a previous assignment, where you computed the eigenvalues of the adjacency matrix of the hypercube.\n",
    "\n"
   ]
  }
 ],
 "metadata": {
  "kernelspec": {
   "display_name": "Python 3",
   "language": "python",
   "name": "python3"
  },
  "language_info": {
   "codemirror_mode": {
    "name": "ipython",
    "version": 3
   },
   "file_extension": ".py",
   "mimetype": "text/x-python",
   "name": "python",
   "nbconvert_exporter": "python",
   "pygments_lexer": "ipython3",
   "version": "3.7.2"
  }
 },
 "nbformat": 4,
 "nbformat_minor": 2
}
