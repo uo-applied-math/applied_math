{
 "cells": [
  {
   "cell_type": "markdown",
   "metadata": {},
   "source": [
    "# Assignment 3\n",
    "\n",
    "Due Wednesday Oct 23"
   ]
  },
  {
   "cell_type": "markdown",
   "metadata": {},
   "source": [
    "## Problem 1: Snakes and ladders\n",
    "\n",
    "There are a variety of game boards called \"snakes and ladders\" or \"chutes and ladders\", but all work like this: the board has 100 squares, some of which are connected by arrows (an arrow that goes from a smaller number to a larger number is a \"ladder\"; one that goes the other way is a \"chute\" or \"snake\"). Each player takes a turn to roll a six-sided die and advance their token the number of squares shown on the die; if their final location is at the base of an arrow then they move to the end of the arrow. The game is begun on square \"zero\", and finishes when square 100 is reached; a rolls that would move a player past 100 does not move the player. One version of the board has arrows with `[start, end]` as follows:\n",
    "```\n",
    "sladders = [[1, 38], [4, 14], [9, 31], [21, 42], [28, 84], [36, 44], [51, 67], [71, 91], [80, 100],\n",
    "            [16, 6], [48, 26], [49, 11], [56, 53], [62, 19], [64, 60], [87, 24], [93, 73], [95, 75], [98, 78]]\n",
    "```\n",
    "For instance, on the first roll, the player could end up in the squares 38, 2, 3, 14, 5, or 6. If a player in square 14 rolled a 2, they'd end up at square 6.\n",
    "\n",
    "*(a)* Represent possible moves on the board as a directed graph on 101 vertices. Use the adjacency matrix to find the number of distinct walks of length $k$ from 0 to 100 for each $1 \\le k \\le 50$.\n",
    "\n",
    "*(b)* Find the number of distinct walks of length $k$ that start from 0 and *have not yet hit 100*, and combine this answer with (a) to get the probability of not having yet finished after $k$ moves. (*Hint: every possible path is equally likely.*)\n",
    "\n",
    "*(c)* Let $\\alpha(j)$ be the length of the shortest path from square $j$ to square 100, for each $0 \\le j \\le 100$. Write a program that finds $\\alpha(j)$. (*Hint: start at $j=100$ and work backwards.*)"
   ]
  },
  {
   "cell_type": "markdown",
   "metadata": {},
   "source": [
    "## Problem 2: uniform spanning tree\n",
    "\n",
    "Implement Wilson's algorithm to compute a random spanning tree of the grid graph $G=(V,E)$, where \n",
    "$$\n",
    "V = \\{1, 2, \\cdots, m\\} \\times \\{1, 2, \\dots, n\\}\n",
    "$$\n",
    "and $E$ is the set of all pairs of points $(u,v) \\in V$ with $|v-u|=1$."
   ]
  },
  {
   "cell_type": "markdown",
   "metadata": {},
   "source": [
    "## Problem 3: Another minimal spanning tree algorithm\n",
    "\n",
    "Consider the following greedy algorithm to find a minimal spanning tree of a weighted graph.\n",
    "\n",
    "1. Add the smallest edge.\n",
    "2. Consider the next smallest edge. If adding it creates a cycle, do not add it.\n",
    "3. Repeat step 2 until you have a tree.\n",
    "\n",
    "This is pretty similar to Prim's algorithm, which I described in class, though it's different.  Prove that this works, and implement this as an $O(m \\log n)$ algorithm."
   ]
  },
  {
   "cell_type": "markdown",
   "metadata": {},
   "source": [
    "## Problem 4: hypercube\n",
    "\n",
    "1. Let $\\otimes$ be the [Kronecker Product on matrices](https://en.wikipedia.org/wiki/Kronecker_product) and let $A$, $B$ be square matrices.  Describe the eigenvalues and eigenvectors of $A \\otimes B$ in terms of the eigenvalues and eigenvectors of $A$ and of $B$.\n",
    "\n",
    "2. Show that the adjacency matrix of the [Cartesian product of two graphs](https://en.wikipedia.org/wiki/Cartesian_product_of_graphs)  is $A \\otimes I_n + I_m \\otimes B$, where $A$ and $B$ are the adjacency matrices of the two graphs, and $m$ and $n$ are the number of vertices of the two graphs.\n",
    "\n",
    "3. Find the eigenvalues and eigenvectors of the $n$-cube graph, whose vertices are $\\{0,1\\}^n$ and whose edges are, as with the grid graph, $\\{(u,v):|u-v|=1\\}$.  "
   ]
  },
  {
   "cell_type": "markdown",
   "metadata": {},
   "source": []
  },
  {
   "cell_type": "code",
   "execution_count": null,
   "metadata": {},
   "outputs": [],
   "source": []
  },
  {
   "cell_type": "code",
   "execution_count": null,
   "metadata": {},
   "outputs": [],
   "source": []
  },
  {
   "cell_type": "code",
   "execution_count": null,
   "metadata": {},
   "outputs": [],
   "source": []
  },
  {
   "cell_type": "code",
   "execution_count": null,
   "metadata": {},
   "outputs": [],
   "source": []
  }
 ],
 "metadata": {
  "kernelspec": {
   "display_name": "Python 3",
   "language": "python",
   "name": "python3"
  },
  "language_info": {
   "codemirror_mode": {
    "name": "ipython",
    "version": 3
   },
   "file_extension": ".py",
   "mimetype": "text/x-python",
   "name": "python",
   "nbconvert_exporter": "python",
   "pygments_lexer": "ipython3",
   "version": "3.7.2"
  }
 },
 "nbformat": 4,
 "nbformat_minor": 2
}
