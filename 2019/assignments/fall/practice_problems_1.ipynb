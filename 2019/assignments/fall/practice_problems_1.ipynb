{
 "cells": [
  {
   "cell_type": "markdown",
   "metadata": {},
   "source": [
    "## More snakes and ladders\n",
    "\n",
    "What is the stationary distribution for snakes and ladders? \n",
    "Is snakes and ladders reversible?\n",
    "\n",
    "Modify snakes and ladders so that there is a snake from square 100 to square 1.\n",
    "Is *this* chain reversible?\n",
    "Suppose then I play snakes and ladders for a week (with breaks to eat, sleep, etc, of course).\n",
    "Explain how to find the probability that I am on square $j$, for each $1 \\le j \\le 100$."
   ]
  },
  {
   "cell_type": "markdown",
   "metadata": {},
   "source": [
    "## Chain letter contagion\n",
    "\n",
    "You get an email that says \n",
    "\n",
    "> You must forward this email to seven other people in your address book, or else suffer 7 years of bad luck.\n",
    "\n",
    "Suppose that there are 1 billion people on email,\n",
    "and that each person has a Poisson random number of contacts in their address book with mean 100,\n",
    "and those people are uniformly chosen.\n",
    "If a person recieves this, they either forward it to a randomly chosen seven of their contacts\n",
    "(with probability $p$), or ignore it (with probability $1-p$).\n",
    "A spammer begins the process by sending the email to $M$ people, with $M \\le 1000$.\n",
    "\n",
    "1. What must $p$ and $M$ be\n",
    "    so that the email will probably reach a large fraction of all people on earth?\n",
    "    $M$ can depend on $p$. Justify your answer.\n",
    "\n",
    "2. If the email spreads, it will eventually hit everyone who is in the large connected component\n",
    "    of the graph whose edges are given by address books.\n",
    "    Roughly what portion of the population do *not* recieve the email, if it spreads?"
   ]
  },
  {
   "cell_type": "markdown",
   "metadata": {},
   "source": [
    "## Doing a sum\n",
    "\n",
    "Let $n$ be a nonnegative integer and define $$f_n = \\sum_{k \\geq 0} \\binom{k}{n-k}. $$  \n",
    "\n",
    "Compute a closed form for the generating function for the numbers $f_n$, and use this generating function to find a formula for $f_n$."
   ]
  },
  {
   "cell_type": "markdown",
   "metadata": {},
   "source": [
    "## 1D Ising model: high and low temperature expansions\n",
    "\n",
    "Much of what we did in on the 2D ising model seems like it should work for the 1D ising model, too.\n",
    "\n",
    "Work out the high-temperature and low-temperature expansions for the one-dimensional Ising model on a ring.  \n",
    "\n",
    "\n"
   ]
  },
  {
   "cell_type": "markdown",
   "metadata": {},
   "source": [
    "## 3D Ising model ground state\n",
    "\n",
    "Consider the graph G whose vertex set is $[0, \\ldots, n+1]$^3, with nearest-neighbour edges.  We'll think about the ising model on $G$ with the following (non-periodic) boundary conditions:  if one of {i,j,k} is zero, then the spin at site (i,j,k) is -; otherwise, if one of {i,j,k} is n+1, the spin at site (i,j,k) is +.   Choose spins at the other sites according to the Ising model.\n",
    "\n",
    "The ising model on this graph is not expected to be exactly solvable (without making physical assumptions).\n",
    "\n",
    "However, we can find the partition function of this model in the low-temperature limit ($K \\rightarrow \\infty$).  Hint: there's a relation to the dimer model..."
   ]
  }
 ],
 "metadata": {
  "kernelspec": {
   "display_name": "Python 3",
   "language": "python",
   "name": "python3"
  },
  "language_info": {
   "codemirror_mode": {
    "name": "ipython",
    "version": 3
   },
   "file_extension": ".py",
   "mimetype": "text/x-python",
   "name": "python",
   "nbconvert_exporter": "python",
   "pygments_lexer": "ipython3",
   "version": "3.7.1"
  }
 },
 "nbformat": 4,
 "nbformat_minor": 2
}
