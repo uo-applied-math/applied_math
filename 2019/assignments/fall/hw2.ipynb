{
 "cells": [
  {
   "cell_type": "markdown",
   "metadata": {},
   "source": [
    "## Problem 1: mergesort\n",
    "\n",
    "\n",
    "Mergesort is a sorting algorithm.  It works as follows.  Given a list of numbers L:\n",
    "\n",
    "1. Let $L_1$ be the first half of $L$, and the second half of $L$ be the list $L_2$.\n",
    "\n",
    "2. Recursively mergesort $L_1$ and $L_2$, yielding two sorted lists $S_1$ and $S_2$.\n",
    "\n",
    "3. Merge $S_1$ and $S_2$ together into a new list $S$ as follows.  Initialize $S$ to be empty. Move either the first element of $S_1$ or the first element of $S_2$, whichever is smaller, to $S$.  Repeat until $S_1$ and $S_2$ are empty.\n",
    "\n",
    "4. Return the sorted list $S$.\n",
    "\n",
    "\n",
    "Analyze the running time of mergesort, assuming that the only operation which takes time is comparing two elements.  \n",
    "\n"
   ]
  },
  {
   "cell_type": "markdown",
   "metadata": {},
   "source": [
    "## Problem 2: recursion and not\n",
    "\n",
    "Consider the following badly written recursive program to compute the Fibonnacci numbers:\n",
    "```\n",
    "def f(n):\n",
    "    if n <= 1:\n",
    "        return n\n",
    "    else:\n",
    "        return f(n-1) + f(n-2)\n",
    "```\n",
    "\n",
    "**(a)** Analyze its run time.\n",
    "\n",
    "**(b)** Write a memoized recursive program to do the same thing, and analyze its run time.\n",
    "\n",
    "**(c)** Write a iterative program to do the same thing, starting with f(0), etc."
   ]
  },
  {
   "cell_type": "markdown",
   "metadata": {},
   "source": [
    "## Problem 3: randomly permuting a list\n",
    "\n",
    "Consider three methods of randomizing a list of length $n$:\n",
    "\n",
    "*(i)* by tagging each with a random floating point number; sort by this tag.\n",
    "\n",
    "*(ii)* the Fisher-Yates shuffle: go through the list from start to end, and swap the $j$th element with the $k$th element, where $k$ is a uniformly random number in $j, j+1, \\dots, n$). See Wikipedia.\n",
    "\n",
    "**(a)** Show that *(ii)* is $O(n)$ (if moving is atomic) while *(i)* is $O(N\\log N)$.\n",
    "\n",
    "**(b)** Implement these algorithms and time them. Despite your answer to (a), I imagine that *(i)* is in fact much faster than *(ii)*.  Explain why (or why not).\n"
   ]
  },
  {
   "cell_type": "markdown",
   "metadata": {},
   "source": [
    "Here's one way to time code in python - if you find a better way feel free to use that."
   ]
  },
  {
   "cell_type": "code",
   "execution_count": 6,
   "metadata": {},
   "outputs": [
    {
     "name": "stdout",
     "output_type": "stream",
     "text": [
      "===============================\n",
      "Here we go with trial 1\n",
      "the answer is 4999950000\n",
      "That took 0.012148345995228738 seconds\n",
      "===============================\n",
      "Here we go with trial 2\n",
      "the answer is 4999950000\n",
      "That took 0.008979083970189095 seconds\n",
      "===============================\n",
      "Here we go with trial 3\n",
      "the answer is 4999950000\n",
      "That took 0.009185396018438041 seconds\n"
     ]
    }
   ],
   "source": [
    "from timeit import default_timer as timer\n",
    "\n",
    "def f(x):\n",
    "    return sum(t^2 for t in range(x))\n",
    "\n",
    "for trial in range(1,4):\n",
    "    print(\"===============================\")\n",
    "    print(\"Here we go with trial {}\".format(trial))\n",
    "    start = timer()\n",
    "    print(\"the answer is {}\".format(f(100000)))\n",
    "    end = timer()\n",
    "\n",
    "    elapsed_time = end - start\n",
    "    print(\"That took {} seconds\".format(elapsed_time))"
   ]
  },
  {
   "cell_type": "markdown",
   "metadata": {},
   "source": [
    "\n",
    "\n",
    "\n"
   ]
  },
  {
   "cell_type": "markdown",
   "metadata": {},
   "source": [
    "## Problem 4: Stirling's approximation\n",
    "\n",
    "Stirling's approximation is a famous asymptotic formula which describes the growth of the factorial function.  One version of Stirling's approximation says that\n",
    "\n",
    "$$n! = \\sqrt{2 \\pi n} \\left (\\frac{n}{e} \\right)^n \\left (1 +\\frac{a}{n} + \\frac{b}{n^2} + O(n^{-3})\\right)$$\n",
    "\n",
    "for some constants $a, b$.  Explain why, if this is true, that $a$ would have to be equal to $\\frac{1}{12}$.  \n",
    "\n",
    "To get started, use the fact that $n! = n(n-1)!$ and apply Stirling's approximation to both sides.  Then if you remember enough about power series, and do enough algebra, you should be able to compare coefficients.\n"
   ]
  }
 ],
 "metadata": {
  "kernelspec": {
   "display_name": "Python 3",
   "language": "python",
   "name": "python3"
  },
  "language_info": {
   "codemirror_mode": {
    "name": "ipython",
    "version": 3
   },
   "file_extension": ".py",
   "mimetype": "text/x-python",
   "name": "python",
   "nbconvert_exporter": "python",
   "pygments_lexer": "ipython3",
   "version": "3.7.1"
  }
 },
 "nbformat": 4,
 "nbformat_minor": 2
}
