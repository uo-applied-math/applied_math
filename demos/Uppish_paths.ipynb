{
 "cells": [
  {
   "cell_type": "markdown",
   "id": "danish-oregon",
   "metadata": {},
   "source": [
    "# Up-ish paths\n",
    "\n",
    "Let $f(n)$ be the number of non-self-intersecting paths that go either N, E, or W."
   ]
  },
  {
   "cell_type": "markdown",
   "id": "eleven-speech",
   "metadata": {},
   "source": [
    "## Generate all paths of length $n$\n",
    "\n",
    "These are all strings of {N, E, W} of length $n$ that don't have \"EW\" or \"WE\" in them."
   ]
  },
  {
   "cell_type": "code",
   "execution_count": 3,
   "id": "qualified-messaging",
   "metadata": {},
   "outputs": [
    {
     "name": "stdout",
     "output_type": "stream",
     "text": [
      "['NNN', 'NNE', 'NNW', 'NEN', 'NEE', 'NWN', 'NWW', 'ENN', 'ENE', 'ENW', 'EEN', 'EEE', 'WNN', 'WNE', 'WNW', 'WWN', 'WWW']\n"
     ]
    }
   ],
   "source": [
    "letters = ['N', 'E', 'W']\n",
    "\n",
    "out3 = []\n",
    "for a in letters:\n",
    "    for b in letters:\n",
    "        for c in letters:\n",
    "            x = a + b + c\n",
    "            if \"EW\" not in x and \"WE\" not in x:\n",
    "                out3.append(x)\n",
    "            \n",
    "print(out3)"
   ]
  },
  {
   "cell_type": "code",
   "execution_count": 23,
   "id": "quick-eagle",
   "metadata": {},
   "outputs": [],
   "source": [
    "def base3(x, n):\n",
    "    out = [0 for _ in range(n)]\n",
    "    for j in range(n):\n",
    "        div = x // 3\n",
    "        out[j] = x - 3 * div\n",
    "        x = div\n",
    "    return out\n",
    "\n",
    "assert base3(28, 4) == [1, 0, 0, 1]\n",
    "assert base3(3, 4) == [0, 1, 0, 0]"
   ]
  },
  {
   "cell_type": "code",
   "execution_count": 28,
   "id": "consecutive-compiler",
   "metadata": {},
   "outputs": [],
   "source": [
    "def paths1(n):\n",
    "    out = []\n",
    "    for j in range(3 ** n):\n",
    "        x = base3(j, n)\n",
    "        p = \"\"\n",
    "        for y in x:\n",
    "            p = p + letters[y]\n",
    "        if \"WE\" not in p and \"EW\" not in p:\n",
    "            out.append(p)\n",
    "    return out\n",
    "        \n",
    "assert set(out3) == set(paths1(3))"
   ]
  },
  {
   "cell_type": "code",
   "execution_count": 52,
   "id": "vocal-exchange",
   "metadata": {},
   "outputs": [],
   "source": [
    "import itertools\n",
    "\n",
    "def paths2(n):\n",
    "    out = []\n",
    "    for u in itertools.product(*[letters]*n):\n",
    "        p = \"\".join(u)\n",
    "        if (\"WE\" not in p) and (\"EW\" not in p):\n",
    "            out.append(p)\n",
    "    return out\n",
    "\n",
    "for n in range(4):\n",
    "    assert set(paths1(n)) == set(paths2(n))"
   ]
  },
  {
   "cell_type": "markdown",
   "id": "center-wound",
   "metadata": {},
   "source": [
    "## Counting\n",
    "\n",
    "Let's check that this agrees with\n",
    "$$ f(n) = \\frac{1}{2} \\left( \n",
    "    \\left( 1 + \\sqrt{2} \\right)^{n+1}\n",
    "    + \\left( 1 - \\sqrt{2} \\right)^{n+1} \n",
    "   \\right) . $$"
   ]
  },
  {
   "cell_type": "code",
   "execution_count": 62,
   "id": "immune-lewis",
   "metadata": {},
   "outputs": [],
   "source": [
    "import numpy as np\n",
    "\n",
    "def f(n):\n",
    "    return round(((1 + np.sqrt(2)) ** (n+1) + (1 - np.sqrt(2)) ** (n+1)) / 2)\n",
    "\n",
    "assert np.isclose(f(0), 1)\n",
    "assert np.isclose(f(1), 3)\n",
    "assert np.isclose(f(2), 7)"
   ]
  },
  {
   "cell_type": "code",
   "execution_count": 63,
   "id": "direct-prefix",
   "metadata": {},
   "outputs": [],
   "source": [
    "for n in range(12):\n",
    "    assert len(paths1(n)) == f(n)"
   ]
  },
  {
   "cell_type": "markdown",
   "id": "coastal-connection",
   "metadata": {},
   "source": [
    "They agree!!"
   ]
  },
  {
   "cell_type": "markdown",
   "id": "joint-johnson",
   "metadata": {},
   "source": [
    "## Exercise:\n",
    "\n",
    "Write a function that generates all paths *recursively*."
   ]
  }
 ],
 "metadata": {
  "kernelspec": {
   "display_name": "Python 3",
   "language": "python",
   "name": "python3"
  },
  "language_info": {
   "codemirror_mode": {
    "name": "ipython",
    "version": 3
   },
   "file_extension": ".py",
   "mimetype": "text/x-python",
   "name": "python",
   "nbconvert_exporter": "python",
   "pygments_lexer": "ipython3",
   "version": "3.9.2"
  }
 },
 "nbformat": 4,
 "nbformat_minor": 5
}
