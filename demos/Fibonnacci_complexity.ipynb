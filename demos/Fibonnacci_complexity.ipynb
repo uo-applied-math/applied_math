{
 "cells": [
  {
   "cell_type": "markdown",
   "id": "billion-invention",
   "metadata": {},
   "source": [
    "Consider the following badly written recursive program to compute the Fibonnacci numbers:\n",
    "```\n",
    "def f(n):\n",
    "    if n <= 1:\n",
    "        return n\n",
    "    else:\n",
    "        return f(n-1) + f(n-2)\n",
    "```\n",
    "\n",
    "(a) Analyze its run time.\n",
    "\n",
    "(b) Write a iterative program to do the same thing, starting with f(0), etc."
   ]
  },
  {
   "cell_type": "markdown",
   "id": "recorded-segment",
   "metadata": {},
   "source": [
    "## Analyze its run time\n",
    "\n",
    "Notice that from this recursion,\n",
    "the time to compute `f(n)` is the time to compute `f(n-1)` plus the time to compute `f(n-2)`,\n",
    "so if `t(n)` is the time to compute `f(n)`,\n",
    "then\n",
    "```\n",
    "  t(n) = t(n-1) + t(n-2) ,\n",
    "```\n",
    "i.e., `t(n)` is a Fibonnacci number.\n",
    "Oh, except not quite: notice that\n",
    "- `t(0)` and `t(1)` might not be equal to 1 as in the Fibonnacci case\n",
    "- `f(n)` also does an addition.\n",
    "\n",
    "But, roughly, it seems like the runtime should grow like the Fibonnacci numbers,\n",
    "i.e., like\n",
    "$$ \\left(\\frac{1 + \\sqrt{5}}{2}\\right)^n . $$"
   ]
  },
  {
   "cell_type": "markdown",
   "id": "large-newton",
   "metadata": {},
   "source": [
    "## More carefully:\n",
    "\n",
    "The function does two things (mostly): calls functions, and adds numbers.\n",
    "How many *additions* does `f(n)` do?\n",
    "\n",
    "First, let's ask python."
   ]
  },
  {
   "cell_type": "code",
   "execution_count": 24,
   "id": "voluntary-surgery",
   "metadata": {},
   "outputs": [],
   "source": [
    "def f(n):\n",
    "    if n <= 1:\n",
    "        return n\n",
    "    else:\n",
    "        # want to insert something here which adds 1 to a global counter\n",
    "        return f(n-1) + f(n-2)\n",
    "\n",
    "def t(n):\n",
    "    # we'll define the global counter within another function\n",
    "    # to keep things tidy\n",
    "    data = dict()  # a dictionary\n",
    "    data['num_additions'] = 0\n",
    "    def f(n):\n",
    "        if n <= 1:\n",
    "            return n\n",
    "        else:\n",
    "            data['num_additions'] += 1\n",
    "            return f(n-1) + f(n-2)\n",
    "    return f(n), data\n",
    "\n",
    "for n in range(5):\n",
    "    a = f(n)\n",
    "    b, _ = t(n)\n",
    "    assert a == b"
   ]
  },
  {
   "cell_type": "code",
   "execution_count": 17,
   "id": "every-excellence",
   "metadata": {},
   "outputs": [
    {
     "data": {
      "image/png": "[encoded data removed]",
      "text/plain": [
       "<Figure size 432x288 with 1 Axes>"
      ]
     },
     "metadata": {
      "needs_background": "light"
     },
     "output_type": "display_data"
    }
   ],
   "source": [
    "import numpy as np\n",
    "import matplotlib.pyplot as plt\n",
    "\n",
    "nvals = np.arange(15)\n",
    "results = [t(n) for n in nvals]\n",
    "tvals = [x[1][\"num_additions\"] for x in results]\n",
    "yvals = [x[0] for x in results]\n",
    "\n",
    "fig, ax = plt.subplots()\n",
    "ax.plot(nvals, tvals, label=\"number of additions\")\n",
    "ax.plot(nvals, yvals, label=\"Fibonnaci numbers\")\n",
    "ax.set_xlabel(\"n\")\n",
    "ax.set_ylabel(\"value\")\n",
    "ax.legend();"
   ]
  },
  {
   "cell_type": "markdown",
   "id": "stuffed-grave",
   "metadata": {},
   "source": [
    "The number of additions *actually* satisfies\n",
    "$$\n",
    "   a(n) = a(n-1) + a(n-2) + 1\n",
    "   \\qquad \\text{for } n \\ge 2\n",
    "$$\n",
    "with $a(0) = a(1) = 0$.\n",
    "Let's do this with generating functions:\n",
    "$$\n",
    "  F(x) = \\sum_{n \\ge 0} x^n a(n),\n",
    "$$\n",
    "and so summing over $n \\ge 2$ we have\n",
    "$$\\begin{aligned}\n",
    "  F(x) \n",
    "  &= \\sum_{n \\ge 2} \\left( x x^{n-1} a(n-1) + x^2 x^{n-2} a(n-2) + x^n \\right) \\\\\n",
    "  &=\n",
    "      x F(x) + x^2 F(x) + \\frac{x}{1-x}\n",
    "\\end{aligned}$$\n",
    "and so\n",
    "$$\n",
    "   F(x) = \\frac{ x }{ (1-x) (1 - x - x^2) } .\n",
    "$$\n",
    "Next we could find the power series of $F$ with partial frrrrrrrrrrrrractions."
   ]
  }
 ],
 "metadata": {
  "kernelspec": {
   "display_name": "Python 3",
   "language": "python",
   "name": "python3"
  },
  "language_info": {
   "codemirror_mode": {
    "name": "ipython",
    "version": 3
   },
   "file_extension": ".py",
   "mimetype": "text/x-python",
   "name": "python",
   "nbconvert_exporter": "python",
   "pygments_lexer": "ipython3",
   "version": "3.9.2"
  }
 },
 "nbformat": 4,
 "nbformat_minor": 5
}
